{
 "cells": [
  {
   "cell_type": "markdown",
   "metadata": {},
   "source": [
    "<img src=\"http://imgur.com/1ZcRyrc.png\" style=\"float: left; margin: 20px; height: 55px\">\n",
    "\n",
    "## Practice Grouping Data with Pandas\n",
    "\n",
    "_Authors: Kiefer Katovich (SF), Dave Yerrington (SF), Mario Carrillo (SF)_\n",
    "\n",
    "---\n",
    "\n",
    "You are going to investigate UFO sightings around the US.  This lab will give you practice performing `groupby` operations to split data along multiple dimensions and investigate patterns between subsets of the data using basic aggregation.\n"
   ]
  },
  {
   "cell_type": "code",
   "execution_count": 1,
   "metadata": {
    "collapsed": true
   },
   "outputs": [],
   "source": [
    "import pandas as pd\n",
    "import numpy as np\n",
    "import seaborn as sns\n",
    "import matplotlib.pyplot as plt\n",
    "sns.set_style('whitegrid')\n",
    "\n",
    "%matplotlib inline\n",
    "%config InlineBackend.figure_format ='retina'"
   ]
  },
  {
   "cell_type": "markdown",
   "metadata": {},
   "source": [
    "#### 1. Load and print the header for the UFO data."
   ]
  },
  {
   "cell_type": "code",
<<<<<<< HEAD
   "execution_count": 2,
=======
   "execution_count": 1,
>>>>>>> upstream/master
   "metadata": {
    "collapsed": true
   },
   "outputs": [],
   "source": [
<<<<<<< HEAD
    "ufo_csv = './datasets/ufo.csv'\n",
    "ufo = pd.read_csv(ufo_csv)"
=======
    "ufo_csv = './datasets/ufo.csv'"
>>>>>>> upstream/master
   ]
  },
  {
   "cell_type": "code",
   "execution_count": 3,
<<<<<<< HEAD
   "metadata": {},
   "outputs": [
    {
     "data": {
      "text/html": [
       "<div>\n",
       "<style>\n",
       "    .dataframe thead tr:only-child th {\n",
       "        text-align: right;\n",
       "    }\n",
       "\n",
       "    .dataframe thead th {\n",
       "        text-align: left;\n",
       "    }\n",
       "\n",
       "    .dataframe tbody tr th {\n",
       "        vertical-align: top;\n",
       "    }\n",
       "</style>\n",
       "<table border=\"1\" class=\"dataframe\">\n",
       "  <thead>\n",
       "    <tr style=\"text-align: right;\">\n",
       "      <th></th>\n",
       "      <th>City</th>\n",
       "      <th>Colors Reported</th>\n",
       "      <th>Shape Reported</th>\n",
       "      <th>State</th>\n",
       "      <th>Time</th>\n",
       "    </tr>\n",
       "  </thead>\n",
       "  <tbody>\n",
       "    <tr>\n",
       "      <th>0</th>\n",
       "      <td>Ithaca</td>\n",
       "      <td>NaN</td>\n",
       "      <td>TRIANGLE</td>\n",
       "      <td>NY</td>\n",
       "      <td>6/1/1930 22:00</td>\n",
       "    </tr>\n",
       "    <tr>\n",
       "      <th>1</th>\n",
       "      <td>Willingboro</td>\n",
       "      <td>NaN</td>\n",
       "      <td>OTHER</td>\n",
       "      <td>NJ</td>\n",
       "      <td>6/30/1930 20:00</td>\n",
       "    </tr>\n",
       "    <tr>\n",
       "      <th>2</th>\n",
       "      <td>Holyoke</td>\n",
       "      <td>NaN</td>\n",
       "      <td>OVAL</td>\n",
       "      <td>CO</td>\n",
       "      <td>2/15/1931 14:00</td>\n",
       "    </tr>\n",
       "    <tr>\n",
       "      <th>3</th>\n",
       "      <td>Abilene</td>\n",
       "      <td>NaN</td>\n",
       "      <td>DISK</td>\n",
       "      <td>KS</td>\n",
       "      <td>6/1/1931 13:00</td>\n",
       "    </tr>\n",
       "    <tr>\n",
       "      <th>4</th>\n",
       "      <td>New York Worlds Fair</td>\n",
       "      <td>NaN</td>\n",
       "      <td>LIGHT</td>\n",
       "      <td>NY</td>\n",
       "      <td>4/18/1933 19:00</td>\n",
       "    </tr>\n",
       "  </tbody>\n",
       "</table>\n",
       "</div>"
      ],
      "text/plain": [
       "                   City Colors Reported Shape Reported State             Time\n",
       "0                Ithaca             NaN       TRIANGLE    NY   6/1/1930 22:00\n",
       "1           Willingboro             NaN          OTHER    NJ  6/30/1930 20:00\n",
       "2               Holyoke             NaN           OVAL    CO  2/15/1931 14:00\n",
       "3               Abilene             NaN           DISK    KS   6/1/1931 13:00\n",
       "4  New York Worlds Fair             NaN          LIGHT    NY  4/18/1933 19:00"
      ]
     },
     "execution_count": 3,
     "metadata": {},
     "output_type": "execute_result"
    }
   ],
   "source": [
    "ufo.head()"
=======
   "metadata": {
    "collapsed": true
   },
   "outputs": [],
   "source": [
    "# A:"
>>>>>>> upstream/master
   ]
  },
  {
   "cell_type": "markdown",
   "metadata": {},
   "source": [
    "#### 2. How many null values exist per column?"
   ]
  },
  {
   "cell_type": "code",
<<<<<<< HEAD
   "execution_count": 8,
   "metadata": {},
   "outputs": [
    {
     "data": {
      "text/plain": [
       "City                  47\n",
       "Colors Reported    63509\n",
       "Shape Reported      8402\n",
       "State                  0\n",
       "Time                   0\n",
       "dtype: int64"
      ]
     },
     "execution_count": 8,
     "metadata": {},
     "output_type": "execute_result"
    }
   ],
   "source": [
    "ufo.isnull().sum()"
=======
   "execution_count": 4,
   "metadata": {
    "collapsed": false
   },
   "outputs": [],
   "source": [
    "# A:"
>>>>>>> upstream/master
   ]
  },
  {
   "cell_type": "markdown",
   "metadata": {},
   "source": [
    "#### 3. Which city has the most observations?"
   ]
  },
  {
   "cell_type": "code",
<<<<<<< HEAD
   "execution_count": 11,
   "metadata": {},
   "outputs": [
    {
     "data": {
      "text/plain": [
       "0    Seattle\n",
       "dtype: object"
      ]
     },
     "execution_count": 11,
     "metadata": {},
     "output_type": "execute_result"
    }
   ],
   "source": [
    "ufo['City'].mode()"
   ]
  },
  {
   "cell_type": "code",
   "execution_count": 15,
   "metadata": {},
   "outputs": [
    {
     "data": {
      "text/plain": [
       "City\n",
       "Seattle          646\n",
       "New York City    612\n",
       "Phoenix          533\n",
       "Las Vegas        442\n",
       "Portland         438\n",
       "dtype: int64"
      ]
     },
     "execution_count": 15,
     "metadata": {},
     "output_type": "execute_result"
    }
   ],
   "source": [
    "ufo.groupby(['City']).apply(len).sort_values(ascending = False).head()"
=======
   "execution_count": 5,
   "metadata": {
    "collapsed": false
   },
   "outputs": [],
   "source": [
    "# A:"
>>>>>>> upstream/master
   ]
  },
  {
   "cell_type": "markdown",
   "metadata": {},
   "source": [
    "#### 4. What is the observation count per shape?"
   ]
  },
  {
   "cell_type": "code",
<<<<<<< HEAD
   "execution_count": 18,
   "metadata": {
    "scrolled": true
   },
   "outputs": [
    {
     "data": {
      "text/plain": [
       "Shape Reported\n",
       "CHEVRON        940\n",
       "CIGAR         1983\n",
       "CIRCLE        7725\n",
       "CONE           310\n",
       "CRESCENT         2\n",
       "CROSS          241\n",
       "CYLINDER      1252\n",
       "DELTA            7\n",
       "DIAMOND       1152\n",
       "DISK          5226\n",
       "DOME             1\n",
       "EGG            733\n",
       "FIREBALL      6249\n",
       "FLARE            1\n",
       "FLASH         1329\n",
       "FORMATION     2405\n",
       "HEXAGON          1\n",
       "LIGHT        16332\n",
       "OTHER         5506\n",
       "OVAL          3721\n",
       "PYRAMID          1\n",
       "RECTANGLE     1295\n",
       "ROUND            2\n",
       "SPHERE        5231\n",
       "TEARDROP       723\n",
       "TRIANGLE      7816\n",
       "VARIOUS       1957\n",
       "dtype: int64"
      ]
     },
     "execution_count": 18,
     "metadata": {},
     "output_type": "execute_result"
    }
   ],
   "source": [
    "ufo.groupby(['Shape Reported']).apply(len)"
   ]
  },
  {
   "cell_type": "code",
   "execution_count": 22,
   "metadata": {},
   "outputs": [
    {
     "data": {
      "text/plain": [
       "LIGHT        16332\n",
       "TRIANGLE      7816\n",
       "CIRCLE        7725\n",
       "FIREBALL      6249\n",
       "OTHER         5506\n",
       "SPHERE        5231\n",
       "DISK          5226\n",
       "OVAL          3721\n",
       "FORMATION     2405\n",
       "CIGAR         1983\n",
       "VARIOUS       1957\n",
       "FLASH         1329\n",
       "RECTANGLE     1295\n",
       "CYLINDER      1252\n",
       "DIAMOND       1152\n",
       "CHEVRON        940\n",
       "EGG            733\n",
       "TEARDROP       723\n",
       "CONE           310\n",
       "CROSS          241\n",
       "DELTA            7\n",
       "CRESCENT         2\n",
       "ROUND            2\n",
       "HEXAGON          1\n",
       "FLARE            1\n",
       "PYRAMID          1\n",
       "DOME             1\n",
       "Name: Shape Reported, dtype: int64"
      ]
     },
     "execution_count": 22,
     "metadata": {},
     "output_type": "execute_result"
    }
   ],
   "source": [
    "ufo['Shape Reported'].value_counts()"
=======
   "execution_count": 6,
   "metadata": {
    "collapsed": false
   },
   "outputs": [],
   "source": [
    "# A:"
>>>>>>> upstream/master
   ]
  },
  {
   "cell_type": "markdown",
   "metadata": {},
   "source": [
    "#### 5. Create a subset of the data that is the top 5 cities and the top 5 shapes."
   ]
  },
  {
   "cell_type": "code",
<<<<<<< HEAD
   "execution_count": 23,
   "metadata": {},
   "outputs": [],
   "source": [
    "Top_Shapes = ['LIGHT', 'TRIANGLE','CIRCLE', 'FIREBALL', 'OTHER']\n",
    "Top_Cities = ['Seattle', 'New York', 'Phoenix', 'Las Vegas', 'Portland']"
   ]
  },
  {
   "cell_type": "code",
   "execution_count": 24,
   "metadata": {
    "scrolled": true
   },
   "outputs": [
    {
     "name": "stdout",
     "output_type": "stream",
     "text": [
      "            City    Colors Reported Shape Reported State              Time\n",
      "732      Seattle                NaN          OTHER    WA    7/1/1962 22:00\n",
      "755      Seattle                NaN         CIRCLE    WA    9/1/1962 12:00\n",
      "913    Las Vegas                NaN         CIRCLE    NV   7/15/1964 23:00\n",
      "926     Portland                NaN         CIRCLE    ME   8/14/1964 23:00\n",
      "1371   Las Vegas               BLUE          LIGHT    NV    4/1/1967 17:45\n",
      "1593   Las Vegas               BLUE          LIGHT    NV    6/1/1968 13:00\n",
      "1681     Phoenix                NaN          LIGHT    AZ    7/15/1968 2:00\n",
      "1683     Seattle                NaN         CIRCLE    WA    7/15/1968 2:00\n",
      "2177     Seattle                NaN       TRIANGLE    WA    1/1/1972 16:00\n",
      "2439    Portland                NaN       FIREBALL    OR    7/7/1973 17:30\n",
      "3342    Portland                NaN       TRIANGLE    OR   8/11/1976 21:00\n",
      "3740   Las Vegas                NaN          LIGHT    NV     6/1/1978 5:00\n",
      "4039    Portland                NaN       TRIANGLE    OR    4/4/1979 13:00\n",
      "4271     Seattle                NaN       TRIANGLE    WA     4/5/1980 0:00\n",
      "4532    Portland                NaN       TRIANGLE    OR    6/1/1981 21:00\n",
      "4714     Seattle                NaN       TRIANGLE    WA    6/15/1982 2:30\n",
      "4849   Las Vegas                NaN         CIRCLE    NV    2/11/1983 0:00\n",
      "4893     Phoenix                NaN         CIRCLE    AZ    6/1/1983 21:30\n",
      "5180    Portland                NaN          LIGHT    OR    2/1/1985 22:30\n",
      "5183    Portland                NaN          LIGHT    OR   2/28/1985 23:00\n",
      "5464     Seattle                NaN          OTHER    WA   6/30/1986 14:00\n",
      "5472     Phoenix                NaN       FIREBALL    AZ   7/13/1986 18:00\n",
      "5691     Seattle                NaN       TRIANGLE    WA   7/22/1987 10:15\n",
      "5774   Las Vegas                RED          LIGHT    NV  12/20/1987 17:15\n",
      "6224     Phoenix                NaN          LIGHT    AZ  11/10/1989 23:00\n",
      "6419     Phoenix                NaN          OTHER    AZ   8/21/1990 22:19\n",
      "6452   Las Vegas                NaN          LIGHT    NV  10/15/1990 17:00\n",
      "6543     Phoenix                NaN         CIRCLE    AZ   5/11/1991 22:30\n",
      "6562   Las Vegas                NaN          OTHER    NV    6/1/1991 18:00\n",
      "6623   Las Vegas                NaN          OTHER    NV   7/18/1991 17:00\n",
      "...          ...                ...            ...   ...               ...\n",
      "77664   Portland  RED ORANGE YELLOW          LIGHT    OR   5/17/2014 21:08\n",
      "77826  Las Vegas                NaN         CIRCLE    NV   5/25/2014 13:40\n",
      "77830    Phoenix                NaN       FIREBALL    AZ   5/25/2014 20:00\n",
      "77912  Las Vegas                NaN          LIGHT    NV   5/30/2014 16:50\n",
      "77962   Portland         RED ORANGE          LIGHT    OR    6/1/2014 21:10\n",
      "78005    Phoenix               BLUE       TRIANGLE    AZ    6/4/2014 20:00\n",
      "78035  Las Vegas                NaN          LIGHT    NV     6/6/2014 3:00\n",
      "78177   Portland                RED       FIREBALL    OR   6/13/2014 23:45\n",
      "78451  Las Vegas                NaN         CIRCLE    NV   6/22/2014 10:00\n",
      "78453   Portland                NaN          OTHER    OR   6/22/2014 18:30\n",
      "78461  Las Vegas                NaN          LIGHT    NV   6/22/2014 21:08\n",
      "78540   Portland           RED BLUE          LIGHT    OR    6/26/2014 0:25\n",
      "78709  Las Vegas                NaN         CIRCLE    NV    7/3/2014 21:15\n",
      "78751  Las Vegas             ORANGE       FIREBALL    NV    7/4/2014 20:00\n",
      "78839    Seattle                NaN          LIGHT    WA    7/4/2014 21:45\n",
      "78881    Seattle                NaN       FIREBALL    WA    7/4/2014 22:00\n",
      "78884    Seattle             ORANGE       TRIANGLE    WA    7/4/2014 22:00\n",
      "78904    Seattle                NaN          OTHER    WA    7/4/2014 22:15\n",
      "79120  Las Vegas                NaN          OTHER    NV    7/7/2014 12:00\n",
      "79323   Portland                NaN          LIGHT    OR   7/15/2014 21:45\n",
      "79353   Portland                NaN       TRIANGLE    OR   7/17/2014 10:30\n",
      "79669   Portland                NaN         CIRCLE    OR     8/1/2014 1:00\n",
      "79765   Portland         RED ORANGE         CIRCLE    OR     8/4/2014 4:30\n",
      "79768    Seattle             ORANGE          LIGHT    WA    8/4/2014 21:05\n",
      "79879    Phoenix                NaN          LIGHT    AZ   8/10/2014 19:30\n",
      "80016    Seattle             ORANGE          LIGHT    WA   8/16/2014 22:00\n",
      "80071   Portland                NaN          OTHER    OR   8/18/2014 23:00\n",
      "80269   Portland                NaN          LIGHT    ME   8/25/2014 21:30\n",
      "80315    Phoenix               BLUE         CIRCLE    AZ   8/27/2014 20:30\n",
      "80361    Seattle             YELLOW         CIRCLE    WA   8/28/2014 22:00\n",
      "\n",
      "[1055 rows x 5 columns]\n"
     ]
    }
   ],
   "source": [
    "subset = ufo[ufo['City'].isin(Top_Cities) & ufo['Shape Reported'].isin(Top_Shapes)]\n",
    "print subset"
   ]
  },
  {
   "cell_type": "code",
   "execution_count": 27,
   "metadata": {},
   "outputs": [
    {
     "name": "stdout",
     "output_type": "stream",
     "text": [
      "(80543, 5)\n",
      "(1055, 5)\n"
     ]
    }
   ],
   "source": [
    "print ufo.shape\n",
    "print subset.shape"
=======
   "execution_count": 7,
   "metadata": {
    "collapsed": true
   },
   "outputs": [],
   "source": [
    "# A:"
>>>>>>> upstream/master
   ]
  },
  {
   "cell_type": "markdown",
   "metadata": {},
   "source": [
    "#### 6. With the subset, find the percent of each shape seen by city."
   ]
  },
  {
   "cell_type": "code",
<<<<<<< HEAD
   "execution_count": 48,
   "metadata": {},
   "outputs": [
    {
     "data": {
      "text/html": [
       "<div>\n",
       "<style>\n",
       "    .dataframe thead tr:only-child th {\n",
       "        text-align: right;\n",
       "    }\n",
       "\n",
       "    .dataframe thead th {\n",
       "        text-align: left;\n",
       "    }\n",
       "\n",
       "    .dataframe tbody tr th {\n",
       "        vertical-align: top;\n",
       "    }\n",
       "</style>\n",
       "<table border=\"1\" class=\"dataframe\">\n",
       "  <thead>\n",
       "    <tr style=\"text-align: right;\">\n",
       "      <th></th>\n",
       "      <th>City</th>\n",
       "      <th>Shape Reported</th>\n",
       "      <th>Count</th>\n",
       "    </tr>\n",
       "  </thead>\n",
       "  <tbody>\n",
       "    <tr>\n",
       "      <th>0</th>\n",
       "      <td>Las Vegas</td>\n",
       "      <td>CIRCLE</td>\n",
       "      <td>42</td>\n",
       "    </tr>\n",
       "    <tr>\n",
       "      <th>1</th>\n",
       "      <td>Las Vegas</td>\n",
       "      <td>FIREBALL</td>\n",
       "      <td>22</td>\n",
       "    </tr>\n",
       "    <tr>\n",
       "      <th>2</th>\n",
       "      <td>Las Vegas</td>\n",
       "      <td>LIGHT</td>\n",
       "      <td>85</td>\n",
       "    </tr>\n",
       "    <tr>\n",
       "      <th>3</th>\n",
       "      <td>Las Vegas</td>\n",
       "      <td>OTHER</td>\n",
       "      <td>36</td>\n",
       "    </tr>\n",
       "    <tr>\n",
       "      <th>4</th>\n",
       "      <td>Las Vegas</td>\n",
       "      <td>TRIANGLE</td>\n",
       "      <td>31</td>\n",
       "    </tr>\n",
       "    <tr>\n",
       "      <th>5</th>\n",
       "      <td>New York</td>\n",
       "      <td>CIRCLE</td>\n",
       "      <td>1</td>\n",
       "    </tr>\n",
       "    <tr>\n",
       "      <th>6</th>\n",
       "      <td>New York</td>\n",
       "      <td>FIREBALL</td>\n",
       "      <td>1</td>\n",
       "    </tr>\n",
       "    <tr>\n",
       "      <th>7</th>\n",
       "      <td>New York</td>\n",
       "      <td>LIGHT</td>\n",
       "      <td>5</td>\n",
       "    </tr>\n",
       "    <tr>\n",
       "      <th>8</th>\n",
       "      <td>New York</td>\n",
       "      <td>OTHER</td>\n",
       "      <td>1</td>\n",
       "    </tr>\n",
       "    <tr>\n",
       "      <th>9</th>\n",
       "      <td>New York</td>\n",
       "      <td>TRIANGLE</td>\n",
       "      <td>3</td>\n",
       "    </tr>\n",
       "    <tr>\n",
       "      <th>10</th>\n",
       "      <td>Phoenix</td>\n",
       "      <td>CIRCLE</td>\n",
       "      <td>34</td>\n",
       "    </tr>\n",
       "    <tr>\n",
       "      <th>11</th>\n",
       "      <td>Phoenix</td>\n",
       "      <td>FIREBALL</td>\n",
       "      <td>35</td>\n",
       "    </tr>\n",
       "    <tr>\n",
       "      <th>12</th>\n",
       "      <td>Phoenix</td>\n",
       "      <td>LIGHT</td>\n",
       "      <td>106</td>\n",
       "    </tr>\n",
       "    <tr>\n",
       "      <th>13</th>\n",
       "      <td>Phoenix</td>\n",
       "      <td>OTHER</td>\n",
       "      <td>46</td>\n",
       "    </tr>\n",
       "    <tr>\n",
       "      <th>14</th>\n",
       "      <td>Phoenix</td>\n",
       "      <td>TRIANGLE</td>\n",
       "      <td>45</td>\n",
       "    </tr>\n",
       "    <tr>\n",
       "      <th>15</th>\n",
       "      <td>Portland</td>\n",
       "      <td>CIRCLE</td>\n",
       "      <td>46</td>\n",
       "    </tr>\n",
       "    <tr>\n",
       "      <th>16</th>\n",
       "      <td>Portland</td>\n",
       "      <td>FIREBALL</td>\n",
       "      <td>29</td>\n",
       "    </tr>\n",
       "    <tr>\n",
       "      <th>17</th>\n",
       "      <td>Portland</td>\n",
       "      <td>LIGHT</td>\n",
       "      <td>100</td>\n",
       "    </tr>\n",
       "    <tr>\n",
       "      <th>18</th>\n",
       "      <td>Portland</td>\n",
       "      <td>OTHER</td>\n",
       "      <td>29</td>\n",
       "    </tr>\n",
       "    <tr>\n",
       "      <th>19</th>\n",
       "      <td>Portland</td>\n",
       "      <td>TRIANGLE</td>\n",
       "      <td>27</td>\n",
       "    </tr>\n",
       "    <tr>\n",
       "      <th>20</th>\n",
       "      <td>Seattle</td>\n",
       "      <td>CIRCLE</td>\n",
       "      <td>50</td>\n",
       "    </tr>\n",
       "    <tr>\n",
       "      <th>21</th>\n",
       "      <td>Seattle</td>\n",
       "      <td>FIREBALL</td>\n",
       "      <td>55</td>\n",
       "    </tr>\n",
       "    <tr>\n",
       "      <th>22</th>\n",
       "      <td>Seattle</td>\n",
       "      <td>LIGHT</td>\n",
       "      <td>129</td>\n",
       "    </tr>\n",
       "    <tr>\n",
       "      <th>23</th>\n",
       "      <td>Seattle</td>\n",
       "      <td>OTHER</td>\n",
       "      <td>51</td>\n",
       "    </tr>\n",
       "    <tr>\n",
       "      <th>24</th>\n",
       "      <td>Seattle</td>\n",
       "      <td>TRIANGLE</td>\n",
       "      <td>46</td>\n",
       "    </tr>\n",
       "  </tbody>\n",
       "</table>\n",
       "</div>"
      ],
      "text/plain": [
       "         City Shape Reported  Count\n",
       "0   Las Vegas         CIRCLE     42\n",
       "1   Las Vegas       FIREBALL     22\n",
       "2   Las Vegas          LIGHT     85\n",
       "3   Las Vegas          OTHER     36\n",
       "4   Las Vegas       TRIANGLE     31\n",
       "5    New York         CIRCLE      1\n",
       "6    New York       FIREBALL      1\n",
       "7    New York          LIGHT      5\n",
       "8    New York          OTHER      1\n",
       "9    New York       TRIANGLE      3\n",
       "10    Phoenix         CIRCLE     34\n",
       "11    Phoenix       FIREBALL     35\n",
       "12    Phoenix          LIGHT    106\n",
       "13    Phoenix          OTHER     46\n",
       "14    Phoenix       TRIANGLE     45\n",
       "15   Portland         CIRCLE     46\n",
       "16   Portland       FIREBALL     29\n",
       "17   Portland          LIGHT    100\n",
       "18   Portland          OTHER     29\n",
       "19   Portland       TRIANGLE     27\n",
       "20    Seattle         CIRCLE     50\n",
       "21    Seattle       FIREBALL     55\n",
       "22    Seattle          LIGHT    129\n",
       "23    Seattle          OTHER     51\n",
       "24    Seattle       TRIANGLE     46"
      ]
     },
     "execution_count": 48,
     "metadata": {},
     "output_type": "execute_result"
    }
   ],
   "source": [
    "counts = subset.groupby(['City', 'Shape Reported']).size().reset_index()\n",
    "#reset index turns your series into a data frame\n",
    "counts.columns = ['City', 'Shape Reported', 'Count']\n",
    "counts"
   ]
  },
  {
   "cell_type": "code",
   "execution_count": 59,
   "metadata": {
    "scrolled": true
   },
   "outputs": [
    {
     "data": {
      "text/html": [
       "<div>\n",
       "<style>\n",
       "    .dataframe thead tr:only-child th {\n",
       "        text-align: right;\n",
       "    }\n",
       "\n",
       "    .dataframe thead th {\n",
       "        text-align: left;\n",
       "    }\n",
       "\n",
       "    .dataframe tbody tr th {\n",
       "        vertical-align: top;\n",
       "    }\n",
       "</style>\n",
       "<table border=\"1\" class=\"dataframe\">\n",
       "  <thead>\n",
       "    <tr style=\"text-align: right;\">\n",
       "      <th></th>\n",
       "      <th>City</th>\n",
       "      <th>Shape Reported</th>\n",
       "      <th>Count</th>\n",
       "      <th>Percent</th>\n",
       "    </tr>\n",
       "  </thead>\n",
       "  <tbody>\n",
       "    <tr>\n",
       "      <th>0</th>\n",
       "      <td>Las Vegas</td>\n",
       "      <td>CIRCLE</td>\n",
       "      <td>42</td>\n",
       "      <td>0.194444</td>\n",
       "    </tr>\n",
       "    <tr>\n",
       "      <th>1</th>\n",
       "      <td>Las Vegas</td>\n",
       "      <td>FIREBALL</td>\n",
       "      <td>22</td>\n",
       "      <td>0.101852</td>\n",
       "    </tr>\n",
       "    <tr>\n",
       "      <th>2</th>\n",
       "      <td>Las Vegas</td>\n",
       "      <td>LIGHT</td>\n",
       "      <td>85</td>\n",
       "      <td>0.393519</td>\n",
       "    </tr>\n",
       "    <tr>\n",
       "      <th>3</th>\n",
       "      <td>Las Vegas</td>\n",
       "      <td>OTHER</td>\n",
       "      <td>36</td>\n",
       "      <td>0.166667</td>\n",
       "    </tr>\n",
       "    <tr>\n",
       "      <th>4</th>\n",
       "      <td>Las Vegas</td>\n",
       "      <td>TRIANGLE</td>\n",
       "      <td>31</td>\n",
       "      <td>0.143519</td>\n",
       "    </tr>\n",
       "    <tr>\n",
       "      <th>5</th>\n",
       "      <td>New York</td>\n",
       "      <td>CIRCLE</td>\n",
       "      <td>1</td>\n",
       "      <td>0.090909</td>\n",
       "    </tr>\n",
       "    <tr>\n",
       "      <th>6</th>\n",
       "      <td>New York</td>\n",
       "      <td>FIREBALL</td>\n",
       "      <td>1</td>\n",
       "      <td>0.090909</td>\n",
       "    </tr>\n",
       "    <tr>\n",
       "      <th>7</th>\n",
       "      <td>New York</td>\n",
       "      <td>LIGHT</td>\n",
       "      <td>5</td>\n",
       "      <td>0.454545</td>\n",
       "    </tr>\n",
       "    <tr>\n",
       "      <th>8</th>\n",
       "      <td>New York</td>\n",
       "      <td>OTHER</td>\n",
       "      <td>1</td>\n",
       "      <td>0.090909</td>\n",
       "    </tr>\n",
       "    <tr>\n",
       "      <th>9</th>\n",
       "      <td>New York</td>\n",
       "      <td>TRIANGLE</td>\n",
       "      <td>3</td>\n",
       "      <td>0.272727</td>\n",
       "    </tr>\n",
       "    <tr>\n",
       "      <th>10</th>\n",
       "      <td>Phoenix</td>\n",
       "      <td>CIRCLE</td>\n",
       "      <td>34</td>\n",
       "      <td>0.127820</td>\n",
       "    </tr>\n",
       "    <tr>\n",
       "      <th>11</th>\n",
       "      <td>Phoenix</td>\n",
       "      <td>FIREBALL</td>\n",
       "      <td>35</td>\n",
       "      <td>0.131579</td>\n",
       "    </tr>\n",
       "    <tr>\n",
       "      <th>12</th>\n",
       "      <td>Phoenix</td>\n",
       "      <td>LIGHT</td>\n",
       "      <td>106</td>\n",
       "      <td>0.398496</td>\n",
       "    </tr>\n",
       "    <tr>\n",
       "      <th>13</th>\n",
       "      <td>Phoenix</td>\n",
       "      <td>OTHER</td>\n",
       "      <td>46</td>\n",
       "      <td>0.172932</td>\n",
       "    </tr>\n",
       "    <tr>\n",
       "      <th>14</th>\n",
       "      <td>Phoenix</td>\n",
       "      <td>TRIANGLE</td>\n",
       "      <td>45</td>\n",
       "      <td>0.169173</td>\n",
       "    </tr>\n",
       "    <tr>\n",
       "      <th>15</th>\n",
       "      <td>Portland</td>\n",
       "      <td>CIRCLE</td>\n",
       "      <td>46</td>\n",
       "      <td>0.199134</td>\n",
       "    </tr>\n",
       "    <tr>\n",
       "      <th>16</th>\n",
       "      <td>Portland</td>\n",
       "      <td>FIREBALL</td>\n",
       "      <td>29</td>\n",
       "      <td>0.125541</td>\n",
       "    </tr>\n",
       "    <tr>\n",
       "      <th>17</th>\n",
       "      <td>Portland</td>\n",
       "      <td>LIGHT</td>\n",
       "      <td>100</td>\n",
       "      <td>0.432900</td>\n",
       "    </tr>\n",
       "    <tr>\n",
       "      <th>18</th>\n",
       "      <td>Portland</td>\n",
       "      <td>OTHER</td>\n",
       "      <td>29</td>\n",
       "      <td>0.125541</td>\n",
       "    </tr>\n",
       "    <tr>\n",
       "      <th>19</th>\n",
       "      <td>Portland</td>\n",
       "      <td>TRIANGLE</td>\n",
       "      <td>27</td>\n",
       "      <td>0.116883</td>\n",
       "    </tr>\n",
       "    <tr>\n",
       "      <th>20</th>\n",
       "      <td>Seattle</td>\n",
       "      <td>CIRCLE</td>\n",
       "      <td>50</td>\n",
       "      <td>0.151057</td>\n",
       "    </tr>\n",
       "    <tr>\n",
       "      <th>21</th>\n",
       "      <td>Seattle</td>\n",
       "      <td>FIREBALL</td>\n",
       "      <td>55</td>\n",
       "      <td>0.166163</td>\n",
       "    </tr>\n",
       "    <tr>\n",
       "      <th>22</th>\n",
       "      <td>Seattle</td>\n",
       "      <td>LIGHT</td>\n",
       "      <td>129</td>\n",
       "      <td>0.389728</td>\n",
       "    </tr>\n",
       "    <tr>\n",
       "      <th>23</th>\n",
       "      <td>Seattle</td>\n",
       "      <td>OTHER</td>\n",
       "      <td>51</td>\n",
       "      <td>0.154079</td>\n",
       "    </tr>\n",
       "    <tr>\n",
       "      <th>24</th>\n",
       "      <td>Seattle</td>\n",
       "      <td>TRIANGLE</td>\n",
       "      <td>46</td>\n",
       "      <td>0.138973</td>\n",
       "    </tr>\n",
       "  </tbody>\n",
       "</table>\n",
       "</div>"
      ],
      "text/plain": [
       "         City Shape Reported  Count   Percent\n",
       "0   Las Vegas         CIRCLE     42  0.194444\n",
       "1   Las Vegas       FIREBALL     22  0.101852\n",
       "2   Las Vegas          LIGHT     85  0.393519\n",
       "3   Las Vegas          OTHER     36  0.166667\n",
       "4   Las Vegas       TRIANGLE     31  0.143519\n",
       "5    New York         CIRCLE      1  0.090909\n",
       "6    New York       FIREBALL      1  0.090909\n",
       "7    New York          LIGHT      5  0.454545\n",
       "8    New York          OTHER      1  0.090909\n",
       "9    New York       TRIANGLE      3  0.272727\n",
       "10    Phoenix         CIRCLE     34  0.127820\n",
       "11    Phoenix       FIREBALL     35  0.131579\n",
       "12    Phoenix          LIGHT    106  0.398496\n",
       "13    Phoenix          OTHER     46  0.172932\n",
       "14    Phoenix       TRIANGLE     45  0.169173\n",
       "15   Portland         CIRCLE     46  0.199134\n",
       "16   Portland       FIREBALL     29  0.125541\n",
       "17   Portland          LIGHT    100  0.432900\n",
       "18   Portland          OTHER     29  0.125541\n",
       "19   Portland       TRIANGLE     27  0.116883\n",
       "20    Seattle         CIRCLE     50  0.151057\n",
       "21    Seattle       FIREBALL     55  0.166163\n",
       "22    Seattle          LIGHT    129  0.389728\n",
       "23    Seattle          OTHER     51  0.154079\n",
       "24    Seattle       TRIANGLE     46  0.138973"
      ]
     },
     "execution_count": 59,
     "metadata": {},
     "output_type": "execute_result"
    }
   ],
   "source": [
    "counts['Percent'] = counts.groupby(['City'])['Count'].apply(lambda x: x/np.sum(x))\n",
    "counts.drop(['city_count'], axis = 1)\n"
=======
   "execution_count": 8,
   "metadata": {
    "collapsed": false
   },
   "outputs": [],
   "source": [
    "# A:"
>>>>>>> upstream/master
   ]
  },
  {
   "cell_type": "markdown",
   "metadata": {},
   "source": [
    "**7. Make a grouped bar chart with your subset data showing counts of shapes seen by city.**"
   ]
  },
  {
   "cell_type": "code",
<<<<<<< HEAD
   "execution_count": 63,
   "metadata": {},
   "outputs": [
    {
     "data": {
      "text/plain": [
       "<matplotlib.axes._subplots.AxesSubplot at 0xf09fbe0>"
      ]
     },
     "execution_count": 63,
     "metadata": {},
     "output_type": "execute_result"
    },
    {
     "data": {
      "image/png": "iVBORw0KGgoAAAANSUhEUgAAAuIAAAJQCAYAAADL4QFBAAAABHNCSVQICAgIfAhkiAAAAAlwSFlz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\n",
      "text/plain": [
       "<matplotlib.figure.Figure at 0xf28e0b8>"
      ]
     },
     "metadata": {
      "image/png": {
       "height": 296,
       "width": 369
      }
     },
     "output_type": "display_data"
    }
   ],
   "source": [
    "subset.groupby(['City', 'Shape Reported']).size().unstack().plot(kind = 'bar')"
   ]
  },
  {
   "cell_type": "code",
   "execution_count": null,
   "metadata": {
    "collapsed": true
   },
   "outputs": [],
   "source": []
=======
   "execution_count": 9,
   "metadata": {
    "collapsed": false
   },
   "outputs": [],
   "source": [
    "# A:"
   ]
>>>>>>> upstream/master
  }
 ],
 "metadata": {
  "kernelspec": {
   "display_name": "Python 2",
   "language": "python",
   "name": "python2"
  },
  "language_info": {
   "codemirror_mode": {
    "name": "ipython",
    "version": 2
   },
   "file_extension": ".py",
   "mimetype": "text/x-python",
   "name": "python",
   "nbconvert_exporter": "python",
   "pygments_lexer": "ipython2",
   "version": "2.7.13"
  }
 },
 "nbformat": 4,
 "nbformat_minor": 2
}
