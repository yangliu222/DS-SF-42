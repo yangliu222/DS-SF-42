{
 "cells": [
  {
   "cell_type": "markdown",
   "metadata": {},
   "source": [
    "<img src=\"http://imgur.com/1ZcRyrc.png\" style=\"float: left; margin: 20px; height: 55px\">\n",
    "\n",
    "# Review python iteration, control flows, and functions\n",
    "\n",
    "_Author: Kiefer Katovich (SF) and Dave Yerrington (SF)_\n",
    "\n",
    "---\n",
    "\n",
    "\n",
    "\n",
    "\n",
    "### Learning Objectives\n",
    " \n",
    "- Explore `Python` control flow and conditional programming.  \n",
    "- Implement `For` and `While` loops to iterate through data structures.\n",
    "- Apply `if, else` conditional statements.\n",
    "- Create functions to perform repetitive actions.\n",
    "- Demonstrate error-handling using `try, except` statements.\n",
    "- Combine control flow and conditional statements to solve the classic \"FizzBuzz\" code challenge.\n",
    "- Use `Python` control flow and functions to help us parse, clean, edit and analyze the Coffee Preferences dataset.\n",
    "\n",
    "---\n",
    "### Lesson Guide\n",
    "\n",
    "- [If Else Statement](#if_else_statements)\n",
    "- [Iterating With For Loops](#for_loops)\n",
    "- [FizzBuzz](#fizz_buzz)\n",
    "- [Functions](#functions)\n",
    "- [While Loops](#while_loops)\n",
    "- [Practice control flow on Coffee Preference dataset](#coffee_preference)\n"
   ]
  },
  {
   "cell_type": "code",
   "execution_count": 1,
   "metadata": {
    "collapsed": true
   },
   "outputs": [],
   "source": [
    "import numpy as np"
   ]
  },
  {
   "cell_type": "markdown",
   "metadata": {},
   "source": [
    "<a id='if_else_statements'></a>\n",
    "\n",
    "# If, Else Statements"
   ]
  },
  {
   "cell_type": "markdown",
   "metadata": {},
   "source": [
    "---\n",
    "\n",
    "### 1. Write an if-else statement to check whether the suitcase is over 50lb.\n",
    "\n",
    "Print a message indicating whether or not the suitcase is over 50lbs."
   ]
  },
  {
   "cell_type": "markdown",
   "metadata": {},
   "source": [
    "## Header"
   ]
  },
  {
   "cell_type": "markdown",
   "metadata": {},
   "source": [
    "for i in range (10)"
   ]
  },
  {
   "cell_type": "code",
   "execution_count": 2,
   "metadata": {},
   "outputs": [
    {
     "data": {
      "text/plain": [
       "{'A': 1, 'B': 2}"
      ]
     },
     "execution_count": 2,
     "metadata": {},
     "output_type": "execute_result"
    }
   ],
   "source": [
    "example_dict = {\"A\": 1, \"B\":2}\n",
    "example_dict"
   ]
  },
  {
   "cell_type": "code",
   "execution_count": 3,
   "metadata": {},
   "outputs": [
    {
     "name": "stdout",
     "output_type": "stream",
     "text": [
      "How many pounds does your suitcase weigh? 10\n"
     ]
    }
   ],
   "source": [
    "weight = float(input(\"How many pounds does your suitcase weigh? \"))"
   ]
  },
  {
   "cell_type": "code",
   "execution_count": 13,
   "metadata": {},
   "outputs": [
    {
     "name": "stdout",
     "output_type": "stream",
     "text": [
      "weight is less than 50 lbs\n"
     ]
    }
   ],
   "source": [
    "if weight > 50:\n",
    "    print \"weight is over 50 lbs\"\n",
    "else:\n",
    "    print \"weight is less than 50 lbs\""
   ]
  },
  {
   "cell_type": "markdown",
   "metadata": {},
   "source": [
    "---\n",
    "\n",
    "### 2. Write an if-else statement for multiple conditions.\n",
    "\n",
    "Print out these recommendations based on the weather conditions:\n",
    "\n",
    "1. The temperature is higher than 60 degrees and it is raining: Bring an umbrella.\n",
    "2. The temperature is lower than or equal to 60 degrees and it is raining: Bring an umbrella and a jacket.\n",
    "3. The temperature is higher than 60 degrees and the sun is shining: Wear a T-shirt.\n",
    "4. The temperature is lower than or equal to 60 degrees and the sun is shining: Bring a jacket."
   ]
  },
  {
   "cell_type": "code",
   "execution_count": 1,
   "metadata": {},
   "outputs": [
    {
     "name": "stdout",
     "output_type": "stream",
     "text": [
      "What is the temperature? 10\n",
      "What is the weather? (rain or shine) 30\n",
      "Variable      Type     Data/Info\n",
      "--------------------------------\n",
      "temperature   float    10.0\n",
      "weather       str      30\n"
     ]
    }
   ],
   "source": [
    "temperature = float(input('What is the temperature? '))\n",
    "weather = raw_input('What is the weather? (rain or shine) ')\n",
    "\n",
    "%whos"
   ]
  },
  {
   "cell_type": "code",
   "execution_count": 11,
   "metadata": {},
   "outputs": [
    {
     "name": "stdout",
     "output_type": "stream",
     "text": [
      "Bring a jacket\n"
     ]
    }
   ],
   "source": [
    "if temperature > 60 and weather == \"rain\":\n",
    "    print \"Bring an umbrella\"\n",
    "    \n",
    "elif temperature <= 60 and weather == \"rain\":\n",
    "    print \"Bring an umbrella and a jacket\"\n",
    "elif temperature > 60 and weather == \"shine\":\n",
    "    print \"Wear a t-shirt\"\n",
    "elif temperature <= 60 and weather == \"shine\":\n",
    "    print \"Bring a jacket\"\n",
    "        \n",
    "    "
   ]
  },
  {
   "cell_type": "markdown",
   "metadata": {},
   "source": [
    "---\n",
    "<a id='for_loops'></a>\n",
    "# For Loops\n",
    "\n",
    "---\n",
    "### 3. Write a `for`-loop that iterates from the number 1 to the number 15.\n",
    "\n",
    "On each iteration, print out the number."
   ]
  },
  {
   "cell_type": "code",
   "execution_count": 14,
   "metadata": {},
   "outputs": [
    {
     "name": "stdout",
     "output_type": "stream",
     "text": [
      "1\n",
      "2\n",
      "3\n",
      "4\n",
      "5\n",
      "6\n",
      "7\n",
      "8\n",
      "9\n",
      "10\n",
      "11\n",
      "12\n",
      "13\n",
      "14\n",
      "15\n"
     ]
    }
   ],
   "source": [
    "for i in range(1, 16):\n",
    "    print i"
   ]
  },
  {
   "cell_type": "markdown",
   "metadata": {},
   "source": [
    "---\n",
    "\n",
    "### 4. Iterate from 1 to 15, printing whether the number is odd or even.\n",
    "\n",
    "Hint: The modulus operator, `%`, can be used to take the remainder. For example:\n",
    "\n",
    "```python\n",
    "9 % 5 == 4\n",
    "```\n",
    "\n",
    "Or in other words, the remainder of dividing 9 by 5 is 4. "
   ]
  },
  {
   "cell_type": "code",
   "execution_count": 2,
   "metadata": {},
   "outputs": [
    {
     "name": "stdout",
     "output_type": "stream",
     "text": [
      "1 the number is odd\n",
      "2 the number is even\n",
      "3 the number is odd\n",
      "4 the number is even\n",
      "5 the number is odd\n",
      "6 the number is even\n",
      "7 the number is odd\n",
      "8 the number is even\n",
      "9 the number is odd\n",
      "10 the number is even\n",
      "11 the number is odd\n",
      "12 the number is even\n",
      "13 the number is odd\n",
      "14 the number is even\n",
      "15 the number is odd\n"
     ]
    }
   ],
   "source": [
    "for i in range(1,16):\n",
    "    if i % 2 == 0:\n",
    "        print i, \"the number is even\"\n",
    "    else:\n",
    "        print i, \"the number is odd\""
   ]
  },
  {
   "cell_type": "markdown",
   "metadata": {},
   "source": [
    "---\n",
    "<a id='fizz_buzz'></a>\n",
    "### 5. Iterate from 1 to 30 with the following instructions:\n",
    "\n",
    "1. If a number is divisible by 3, print 'fizz'. \n",
    "2. If a number is divisible by 5, print 'buzz'. \n",
    "3. If a number is both divisible by 3 and 5 print 'fizzbuzz'.\n",
    "4. Otherwise, print just the number."
   ]
  },
  {
   "cell_type": "code",
   "execution_count": 18,
   "metadata": {},
   "outputs": [
    {
     "name": "stdout",
     "output_type": "stream",
     "text": [
      "1\n",
      "2\n",
      "3 fizz\n",
      "4\n",
      "5 buzz\n",
      "6 fizz\n",
      "7\n",
      "8\n",
      "9 fizz\n",
      "10 buzz\n",
      "11\n",
      "12 fizz\n",
      "13\n",
      "14\n",
      "15 fizzbuzz\n",
      "16\n",
      "17\n",
      "18 fizz\n",
      "19\n",
      "20 buzz\n",
      "21 fizz\n",
      "22\n",
      "23\n",
      "24 fizz\n",
      "25 buzz\n",
      "26\n",
      "27 fizz\n",
      "28\n",
      "29\n",
      "30 fizzbuzz\n"
     ]
    }
   ],
   "source": [
    "for i in range(1,31):\n",
    "    if i % 3 == 0 and i % 5 == 0:\n",
    "        print i, \"fizzbuzz\"\n",
    "    elif i % 3 == 0:\n",
    "        print i, \"fizz\"\n",
    "    elif i % 5 == 0:\n",
    "        print i, \"buzz\"\n",
    "    else:\n",
    "        print i\n",
    "    "
   ]
  },
  {
   "cell_type": "markdown",
   "metadata": {},
   "source": [
    "---\n",
    "\n",
    "### 6. Iterate through the following list of animals, and print each one in all caps."
   ]
  },
  {
   "cell_type": "code",
   "execution_count": 2,
   "metadata": {
    "collapsed": true
   },
   "outputs": [],
   "source": [
    "animals = ['duck', 'rat', 'boar', 'slug', 'mammoth', 'gazelle']"
   ]
  },
  {
   "cell_type": "code",
   "execution_count": 3,
   "metadata": {},
   "outputs": [
    {
     "name": "stdout",
     "output_type": "stream",
     "text": [
      "DUCK\n",
      "RAT\n",
      "BOAR\n",
      "SLUG\n",
      "MAMMOTH\n",
      "GAZELLE\n"
     ]
    }
   ],
   "source": [
    "for animal in animals:\n",
    "    print animal.upper()"
   ]
  },
  {
   "cell_type": "markdown",
   "metadata": {},
   "source": [
    "---\n",
    "\n",
    "### 7. Iterate through the animals list. Capitalize the first letter and append the modified animals to a new list."
   ]
  },
  {
   "cell_type": "code",
   "execution_count": 8,
   "metadata": {},
   "outputs": [
    {
     "name": "stdout",
     "output_type": "stream",
     "text": [
      "['Duck', 'Rat', 'Boar', 'Slug', 'Mammoth', 'Gazelle']\n"
     ]
    }
   ],
   "source": [
    "cap_animals =[]\n",
    "for animal in animals:\n",
    "    word = animal[0].upper() + animal[1:]\n",
    "    cap_animals.append(word)\n",
    "print cap_animals\n",
    "\n",
    "#can also use the .capitalize() function"
   ]
  },
  {
   "cell_type": "markdown",
   "metadata": {},
   "source": [
    "---\n",
    "\n",
    "### 8. Iterate through the animals. Print out the animal name and the number of vowels in the name.\n",
    "Hint: You may need to create a variable of vowels for comparison.  "
   ]
  },
  {
   "cell_type": "code",
   "execution_count": 10,
   "metadata": {},
   "outputs": [
    {
     "name": "stdout",
     "output_type": "stream",
     "text": [
      "duck 1\n",
      "rat 1\n",
      "boar 2\n",
      "slug 1\n",
      "mammoth 2\n",
      "gazelle 3\n"
     ]
    }
   ],
   "source": [
    "vowels = 'aieou'\n",
    "\n",
    "for animal in animals:\n",
    "    vowel_count_for_animal = 0\n",
    "    for character in animal:\n",
    "        if character in vowels:\n",
    "            vowel_count_for_animal += 1\n",
    "    print animal + \" \" + str(vowel_count_for_animal)\n",
    "            "
   ]
  },
  {
   "cell_type": "markdown",
   "metadata": {},
   "source": [
    "---\n",
    "<a id='functions'></a>\n",
    "# Functions\n",
    "---\n",
    "\n",
    "### 9. Write a function that takes word as an argument and returns the number of vowels in the word.\n",
    "\n",
    "Try it out on three words."
   ]
  },
  {
   "cell_type": "code",
   "execution_count": 14,
   "metadata": {},
   "outputs": [
    {
     "name": "stdout",
     "output_type": "stream",
     "text": [
      "2\n"
     ]
    }
   ],
   "source": [
    "vowel = 'aieou'\n",
    "def vowels_in_word(word):\n",
    "    number_of_vowels = 0\n",
    "    for character in word:\n",
    "        if character in vowel:\n",
    "            number_of_vowels += 1\n",
    "    return number_of_vowels\n",
    "\n",
    "print vowels_in_word('peter')\n"
   ]
  },
  {
   "cell_type": "markdown",
   "metadata": {},
   "source": [
    "---\n",
    "\n",
    "### 10. Write a function to calculate the area of a triangle uaing a height and width.\n",
    "\n",
    "Test it out."
   ]
  },
  {
   "cell_type": "code",
   "execution_count": 15,
   "metadata": {},
   "outputs": [
    {
     "name": "stdout",
     "output_type": "stream",
     "text": [
      "10.0\n"
     ]
    }
   ],
   "source": [
    "def area(height,width):\n",
    "    return height*width*0.5\n",
    "\n",
    "print area(10,2)"
   ]
  },
  {
   "cell_type": "markdown",
   "metadata": {},
   "source": [
    "---\n",
    "<a id='while_loops'></a>\n",
    "# While Loops\n",
    "---\n",
    "\n",
    "### 11. While loops and strings.\n",
    "\n",
    "Iterate over the following sentence repeatedly, counting the number of vowels in the sentence until you have tallied one million. Print out the number of iterations it took to reach that amount."
   ]
  },
  {
   "cell_type": "code",
   "execution_count": 17,
   "metadata": {
    "collapsed": true
   },
   "outputs": [],
   "source": [
    "sentence = \"A MAN KNOCKED ON MY DOOR AND ASKED FOR A SMALL DONATION TOWARDS THE LOCAL SWIMMING POOL SO I GAVE HIM A GLASS OF WATER\""
   ]
  },
  {
   "cell_type": "code",
   "execution_count": 21,
   "metadata": {},
   "outputs": [
    {
     "name": "stdout",
     "output_type": "stream",
     "text": [
      "27778\n"
     ]
    }
   ],
   "source": [
    "vowels = 'AEIOU'\n",
    "vowel_count = 0\n",
    "iterations = 0\n",
    "\n",
    "while(vowel_count < 1000000):\n",
    "    for character in sentence:\n",
    "        if character in vowels:\n",
    "            vowel_count += 1\n",
    "    iterations += 1\n",
    "\n",
    "print iterations            "
   ]
  },
  {
   "cell_type": "markdown",
   "metadata": {},
   "source": [
    "---\n",
    "\n",
    "### 12. Try to convert elements in a list to floats.\n",
    "\n",
    "Create a new list with the converted numbers. If something cannot be converted, skip it and append nothing to the new list."
   ]
  },
  {
   "cell_type": "code",
   "execution_count": 23,
   "metadata": {
    "collapsed": true
   },
   "outputs": [],
   "source": [
    "corrupted = ['!1', '23.1', '23.4.5', '??12', '.12', '12-12', '-11.1', '0-1', '*12.1', '1000']"
   ]
  },
  {
   "cell_type": "code",
   "execution_count": 30,
   "metadata": {},
   "outputs": [
    {
     "name": "stdout",
     "output_type": "stream",
     "text": [
      "[23.1, 0.12, -11.1, 1000.0]\n"
     ]
    }
   ],
   "source": [
    "new_list = []\n",
    "\n",
    "for item in corrupted:\n",
    "    try:\n",
    "        new_list.append(float(item))\n",
    "    except:\n",
    "        pass\n",
    "\n",
    "print new_list\n",
    "        "
   ]
  },
  {
   "cell_type": "markdown",
   "metadata": {},
   "source": [
    "---\n",
    "<a id='coffee_preference'></a>\n",
    "\n",
    "# Practice control flow on Coffee Preference dataset\n",
    "\n",
    "### 13. Load coffee preference data from file and print\n",
    "\n",
    "The code to load in the data is provided below. \n",
    "\n",
    "The `with open(..., 'r') as f:` opens up a file in \"read\" mode (rather than \"write\"), and assigns this opened file to `f`. \n",
    "\n",
    "We can then use the `.readlines()` built-in function to split the csv file on newlines and assign it to the variable `lines`."
   ]
  },
  {
   "cell_type": "code",
   "execution_count": 31,
   "metadata": {
    "collapsed": true
   },
   "outputs": [],
   "source": [
    "with open('datasets/coffee-preferences.csv','r') as f:\n",
    "    lines = f.readlines()"
   ]
  },
  {
   "cell_type": "markdown",
   "metadata": {},
   "source": [
    "#### Iterate through lines and print them out"
   ]
  },
  {
   "cell_type": "code",
   "execution_count": 36,
   "metadata": {},
   "outputs": [
    {
     "name": "stdout",
     "output_type": "stream",
     "text": [
      "Timestamp,Name,Starbucks,PhilzCoffee,BlueBottleCoffee,PeetsTea,CaffeTrieste,GrandCoffee,RitualCoffee,FourBarrel,WorkshopCafe\n",
      "\n",
      "3/17/2015 18:37:58,Alison,3,5,4,3,,,5,5,\n",
      "\n",
      "3/17/2015 18:38:09,April,4,5,5,3,,,3,,5\n",
      "\n",
      "3/17/2015 18:38:25,Vijay,3,5,5,5,3,2,1,1,1\n",
      "\n",
      "3/17/2015 18:38:28,Vanessa,1,5,5,2,,,3,2,3\n",
      "\n",
      "3/17/2015 18:38:46,Isabel,1,4,4,2,4,,4,4,\n",
      "\n",
      "3/17/2015 18:39:01,India,5,3,3,3,3,1,,,3\n",
      "\n",
      "3/17/2015 18:39:01,Dave H,4,5,,5,,,,,\n",
      "\n",
      "3/17/2015 18:39:05,Deepthi,3,5,,2,,,,,2\n",
      "\n",
      "3/17/2015 18:39:14,Ramesh,3,4,,3,,,,,4\n",
      "\n",
      "3/17/2015 18:39:23,Hugh Jass,1,5,5,4,5,2,5,4,1\n",
      "\n",
      "3/17/2015 18:39:23,Alex,4,5,,3,,,,,\n",
      "\n",
      "3/17/2015 18:39:30,Ajay Anand,3,4,4,3,5,,,,\n",
      "\n",
      "3/17/2015 18:39:35,David Feng,2,3,4,2,2,,5,4,3\n",
      "\n",
      "3/17/2015 18:39:42,Zach,3,4,4,3,,,,,5\n",
      "\n",
      "3/17/2015 18:40:44,Matt,3,5,4,3,2,2,4,3,2\n",
      "\n",
      "3/17/2015 18:40:49,Markus,3,5,,3,,,4,,\n",
      "\n",
      "3/17/2015 18:41:18,Otto,4,2,2,5,,,3,3,3\n",
      "\n",
      "3/17/2015 18:41:23,Alessandro,1,5,3,2,,,4,3,\n",
      "\n",
      "3/17/2015 18:41:35,Rocky,3,5,4,3,3,3,4,4,3\n",
      "\n",
      "3/17/2015 18:42:01,cheong-tseng eng,3,1,,,,,4,,\n"
     ]
    }
   ],
   "source": [
    "for row in lines:\n",
    "    print row"
   ]
  },
  {
   "cell_type": "markdown",
   "metadata": {},
   "source": [
    "#### Print out just the lines object by typing `lines` in a cell and hitting enter."
   ]
  },
  {
   "cell_type": "code",
   "execution_count": 37,
   "metadata": {},
   "outputs": [
    {
     "data": {
      "text/plain": [
       "['Timestamp,Name,Starbucks,PhilzCoffee,BlueBottleCoffee,PeetsTea,CaffeTrieste,GrandCoffee,RitualCoffee,FourBarrel,WorkshopCafe\\n',\n",
       " '3/17/2015 18:37:58,Alison,3,5,4,3,,,5,5,\\n',\n",
       " '3/17/2015 18:38:09,April,4,5,5,3,,,3,,5\\n',\n",
       " '3/17/2015 18:38:25,Vijay,3,5,5,5,3,2,1,1,1\\n',\n",
       " '3/17/2015 18:38:28,Vanessa,1,5,5,2,,,3,2,3\\n',\n",
       " '3/17/2015 18:38:46,Isabel,1,4,4,2,4,,4,4,\\n',\n",
       " '3/17/2015 18:39:01,India,5,3,3,3,3,1,,,3\\n',\n",
       " '3/17/2015 18:39:01,Dave H,4,5,,5,,,,,\\n',\n",
       " '3/17/2015 18:39:05,Deepthi,3,5,,2,,,,,2\\n',\n",
       " '3/17/2015 18:39:14,Ramesh,3,4,,3,,,,,4\\n',\n",
       " '3/17/2015 18:39:23,Hugh Jass,1,5,5,4,5,2,5,4,1\\n',\n",
       " '3/17/2015 18:39:23,Alex,4,5,,3,,,,,\\n',\n",
       " '3/17/2015 18:39:30,Ajay Anand,3,4,4,3,5,,,,\\n',\n",
       " '3/17/2015 18:39:35,David Feng,2,3,4,2,2,,5,4,3\\n',\n",
       " '3/17/2015 18:39:42,Zach,3,4,4,3,,,,,5\\n',\n",
       " '3/17/2015 18:40:44,Matt,3,5,4,3,2,2,4,3,2\\n',\n",
       " '3/17/2015 18:40:49,Markus,3,5,,3,,,4,,\\n',\n",
       " '3/17/2015 18:41:18,Otto,4,2,2,5,,,3,3,3\\n',\n",
       " '3/17/2015 18:41:23,Alessandro,1,5,3,2,,,4,3,\\n',\n",
       " '3/17/2015 18:41:35,Rocky,3,5,4,3,3,3,4,4,3\\n',\n",
       " '3/17/2015 18:42:01,cheong-tseng eng,3,1,,,,,4,,']"
      ]
     },
     "execution_count": 37,
     "metadata": {},
     "output_type": "execute_result"
    }
   ],
   "source": [
    "lines"
   ]
  },
  {
   "cell_type": "markdown",
   "metadata": {},
   "source": [
    "---\n",
    "\n",
    "### 14. Remove the remaining newline `'\\n'` characters with a for-loop.\n",
    "\n",
    "Iterate through the lines of the data and remove the unwanted newline characters.\n",
    "\n",
    "**.replace('\\n', '')** is a built-in string function that will take the substring you want to replace as its first argument and the string you want to replace it with as its second."
   ]
  },
  {
   "cell_type": "code",
   "execution_count": 43,
   "metadata": {},
   "outputs": [
    {
     "name": "stdout",
     "output_type": "stream",
     "text": [
      "['Timestamp,Name,Starbucks,PhilzCoffee,BlueBottleCoffee,PeetsTea,CaffeTrieste,GrandCoffee,RitualCoffee,FourBarrel,WorkshopCafe', '3/17/2015 18:37:58,Alison,3,5,4,3,,,5,5,', '3/17/2015 18:38:09,April,4,5,5,3,,,3,,5', '3/17/2015 18:38:25,Vijay,3,5,5,5,3,2,1,1,1', '3/17/2015 18:38:28,Vanessa,1,5,5,2,,,3,2,3', '3/17/2015 18:38:46,Isabel,1,4,4,2,4,,4,4,', '3/17/2015 18:39:01,India,5,3,3,3,3,1,,,3', '3/17/2015 18:39:01,Dave H,4,5,,5,,,,,', '3/17/2015 18:39:05,Deepthi,3,5,,2,,,,,2', '3/17/2015 18:39:14,Ramesh,3,4,,3,,,,,4', '3/17/2015 18:39:23,Hugh Jass,1,5,5,4,5,2,5,4,1', '3/17/2015 18:39:23,Alex,4,5,,3,,,,,', '3/17/2015 18:39:30,Ajay Anand,3,4,4,3,5,,,,', '3/17/2015 18:39:35,David Feng,2,3,4,2,2,,5,4,3', '3/17/2015 18:39:42,Zach,3,4,4,3,,,,,5', '3/17/2015 18:40:44,Matt,3,5,4,3,2,2,4,3,2', '3/17/2015 18:40:49,Markus,3,5,,3,,,4,,', '3/17/2015 18:41:18,Otto,4,2,2,5,,,3,3,3', '3/17/2015 18:41:23,Alessandro,1,5,3,2,,,4,3,', '3/17/2015 18:41:35,Rocky,3,5,4,3,3,3,4,4,3', '3/17/2015 18:42:01,cheong-tseng eng,3,1,,,,,4,,']\n"
     ]
    }
   ],
   "source": [
    "cleaned_lines = []\n",
    "\n",
    "for row in lines:\n",
    "    clean_row = row.replace('\\n','')\n",
    "    cleaned_lines.append(clean_row)\n",
    "\n",
    "print cleaned_lines"
   ]
  },
  {
   "cell_type": "markdown",
   "metadata": {},
   "source": [
    "---\n",
    "\n",
    "### 15. Split the lines into \"header\" and \"data\" variables.\n",
    "\n",
    "The header is the first string in the list of strings. It contains the column names of our data."
   ]
  },
  {
   "cell_type": "code",
   "execution_count": 49,
   "metadata": {},
   "outputs": [
    {
     "name": "stdout",
     "output_type": "stream",
     "text": [
      "Timestamp,Name,Starbucks,PhilzCoffee,BlueBottleCoffee,PeetsTea,CaffeTrieste,GrandCoffee,RitualCoffee,FourBarrel,WorkshopCafe\n",
      "['3/17/2015 18:37:58,Alison,3,5,4,3,,,5,5,\\n', '3/17/2015 18:38:09,April,4,5,5,3,,,3,,5\\n', '3/17/2015 18:38:25,Vijay,3,5,5,5,3,2,1,1,1\\n', '3/17/2015 18:38:28,Vanessa,1,5,5,2,,,3,2,3\\n', '3/17/2015 18:38:46,Isabel,1,4,4,2,4,,4,4,\\n', '3/17/2015 18:39:01,India,5,3,3,3,3,1,,,3\\n', '3/17/2015 18:39:01,Dave H,4,5,,5,,,,,\\n', '3/17/2015 18:39:05,Deepthi,3,5,,2,,,,,2\\n', '3/17/2015 18:39:14,Ramesh,3,4,,3,,,,,4\\n', '3/17/2015 18:39:23,Hugh Jass,1,5,5,4,5,2,5,4,1\\n', '3/17/2015 18:39:23,Alex,4,5,,3,,,,,\\n', '3/17/2015 18:39:30,Ajay Anand,3,4,4,3,5,,,,\\n', '3/17/2015 18:39:35,David Feng,2,3,4,2,2,,5,4,3\\n', '3/17/2015 18:39:42,Zach,3,4,4,3,,,,,5\\n', '3/17/2015 18:40:44,Matt,3,5,4,3,2,2,4,3,2\\n', '3/17/2015 18:40:49,Markus,3,5,,3,,,4,,\\n', '3/17/2015 18:41:18,Otto,4,2,2,5,,,3,3,3\\n', '3/17/2015 18:41:23,Alessandro,1,5,3,2,,,4,3,\\n', '3/17/2015 18:41:35,Rocky,3,5,4,3,3,3,4,4,3\\n', '3/17/2015 18:42:01,cheong-tseng eng,3,1,,,,,4,,']\n"
     ]
    }
   ],
   "source": [
    "header = lines[0].replace('\\n','')\n",
    "data = lines[1:]\n",
    "\n",
    "print header\n",
    "print data"
   ]
  },
  {
   "cell_type": "markdown",
   "metadata": {},
   "source": [
    "---\n",
    "\n",
    "### 16. Split the header and the data strings on commas.\n",
    "\n",
    "To split a string on the comma character, use the built in **`.split(',')`** function. \n",
    "\n",
    "Split the header on commas, then print it. You can see that the original string is now a list containing items that were originally separated by commas."
   ]
  },
  {
   "cell_type": "code",
   "execution_count": 50,
   "metadata": {},
   "outputs": [
    {
     "name": "stdout",
     "output_type": "stream",
     "text": [
      "['Timestamp', 'Name', 'Starbucks', 'PhilzCoffee', 'BlueBottleCoffee', 'PeetsTea', 'CaffeTrieste', 'GrandCoffee', 'RitualCoffee', 'FourBarrel', 'WorkshopCafe']\n"
     ]
    }
   ],
   "source": [
    "print header.split(',')"
   ]
  },
  {
   "cell_type": "markdown",
   "metadata": {},
   "source": [
    "---\n",
    "\n",
    "### 17. Remove the \"Timestamp\" column.\n",
    "\n",
    "We aren't interested in the \"Timestamp\" column in our data, so remove it from the header and the data list.\n",
    "\n",
    "Removing the Timestamp from the header can be done with list functions or with slicing. To remove the header column from the data, use a for-loop.\n",
    "\n",
    "Print out the new data object with the timestamps removed."
   ]
  },
  {
   "cell_type": "code",
   "execution_count": 56,
   "metadata": {},
   "outputs": [
    {
     "name": "stdout",
     "output_type": "stream",
     "text": [
      "['Name', 'Starbucks', 'PhilzCoffee', 'BlueBottleCoffee', 'PeetsTea', 'CaffeTrieste', 'GrandCoffee', 'RitualCoffee', 'FourBarrel', 'WorkshopCafe']\n",
      "[['Alison', '3', '5', '4', '3', '', '', '5', '5', ''], ['April', '4', '5', '5', '3', '', '', '3', '', '5'], ['Vijay', '3', '5', '5', '5', '3', '2', '1', '1', '1'], ['Vanessa', '1', '5', '5', '2', '', '', '3', '2', '3'], ['Isabel', '1', '4', '4', '2', '4', '', '4', '4', ''], ['India', '5', '3', '3', '3', '3', '1', '', '', '3'], ['Dave H', '4', '5', '', '5', '', '', '', '', ''], ['Deepthi', '3', '5', '', '2', '', '', '', '', '2'], ['Ramesh', '3', '4', '', '3', '', '', '', '', '4'], ['Hugh Jass', '1', '5', '5', '4', '5', '2', '5', '4', '1'], ['Alex', '4', '5', '', '3', '', '', '', '', ''], ['Ajay Anand', '3', '4', '4', '3', '5', '', '', '', ''], ['David Feng', '2', '3', '4', '2', '2', '', '5', '4', '3'], ['Zach', '3', '4', '4', '3', '', '', '', '', '5'], ['Matt', '3', '5', '4', '3', '2', '2', '4', '3', '2'], ['Markus', '3', '5', '', '3', '', '', '4', '', ''], ['Otto', '4', '2', '2', '5', '', '', '3', '3', '3'], ['Alessandro', '1', '5', '3', '2', '', '', '4', '3', ''], ['Rocky', '3', '5', '4', '3', '3', '3', '4', '4', '3'], ['cheong-tseng eng', '3', '1', '', '', '', '', '4', '', '']]\n"
     ]
    }
   ],
   "source": [
    "new_header = []\n",
    "\n",
    "for item in header.split(','):\n",
    "    if item != 'Timestamp':\n",
    "        new_header.append(item)\n",
    "\n",
    "print new_header\n",
    "\n",
    "new_data = []\n",
    "\n",
    "for string in data:\n",
    "    string_with_no_newline = string.replace('\\n', '')\n",
    "    columns = string_with_no_newline.split(',')\n",
    "    columns_no_timestamp = columns[1:]\n",
    "    new_data.append(columns_no_timestamp)\n",
    "\n",
    "print new_data\n",
    "    \n",
    "    "
   ]
  },
  {
   "cell_type": "markdown",
   "metadata": {},
   "source": [
    "---\n",
    "\n",
    "### 18. Convert numeric columns to floats and empty fields to `None`.\n",
    "\n",
    "Iterate through the data, and construct a new data list of lists that contains the numeric ratings converted from strings into floats and the empty fields (which are empty strings '') replaced with the None object.\n",
    "\n",
    "Use a nested for loop (a for loop within another for loop) to get the job done. You will likely need to use if-else conditional statements as well.\n",
    "\n",
    "Print out the new data object to make sure you've succeeded."
   ]
  },
  {
   "cell_type": "code",
   "execution_count": 57,
   "metadata": {},
   "outputs": [
    {
     "name": "stdout",
     "output_type": "stream",
     "text": [
      "[['Alison', 3.0, '3', 5.0, '5', 4.0, '4', 3.0, '3', None, None, 5.0, '5', 5.0, '5', None], ['April', 4.0, '4', 5.0, '5', 5.0, '5', 3.0, '3', None, None, 3.0, '3', None, 5.0, '5'], ['Vijay', 3.0, '3', 5.0, '5', 5.0, '5', 5.0, '5', 3.0, '3', 2.0, '2', 1.0, '1', 1.0, '1', 1.0, '1'], ['Vanessa', 1.0, '1', 5.0, '5', 5.0, '5', 2.0, '2', None, None, 3.0, '3', 2.0, '2', 3.0, '3'], ['Isabel', 1.0, '1', 4.0, '4', 4.0, '4', 2.0, '2', 4.0, '4', None, 4.0, '4', 4.0, '4', None], ['India', 5.0, '5', 3.0, '3', 3.0, '3', 3.0, '3', 3.0, '3', 1.0, '1', None, None, 3.0, '3'], ['Dave H', 4.0, '4', 5.0, '5', None, 5.0, '5', None, None, None, None, None], ['Deepthi', 3.0, '3', 5.0, '5', None, 2.0, '2', None, None, None, None, 2.0, '2'], ['Ramesh', 3.0, '3', 4.0, '4', None, 3.0, '3', None, None, None, None, 4.0, '4'], ['Hugh Jass', 1.0, '1', 5.0, '5', 5.0, '5', 4.0, '4', 5.0, '5', 2.0, '2', 5.0, '5', 4.0, '4', 1.0, '1'], ['Alex', 4.0, '4', 5.0, '5', None, 3.0, '3', None, None, None, None, None], ['Ajay Anand', 3.0, '3', 4.0, '4', 4.0, '4', 3.0, '3', 5.0, '5', None, None, None, None], ['David Feng', 2.0, '2', 3.0, '3', 4.0, '4', 2.0, '2', 2.0, '2', None, 5.0, '5', 4.0, '4', 3.0, '3'], ['Zach', 3.0, '3', 4.0, '4', 4.0, '4', 3.0, '3', None, None, None, None, 5.0, '5'], ['Matt', 3.0, '3', 5.0, '5', 4.0, '4', 3.0, '3', 2.0, '2', 2.0, '2', 4.0, '4', 3.0, '3', 2.0, '2'], ['Markus', 3.0, '3', 5.0, '5', None, 3.0, '3', None, None, 4.0, '4', None, None], ['Otto', 4.0, '4', 2.0, '2', 2.0, '2', 5.0, '5', None, None, 3.0, '3', 3.0, '3', 3.0, '3'], ['Alessandro', 1.0, '1', 5.0, '5', 3.0, '3', 2.0, '2', None, None, 4.0, '4', 3.0, '3', None], ['Rocky', 3.0, '3', 5.0, '5', 4.0, '4', 3.0, '3', 3.0, '3', 3.0, '3', 4.0, '4', 4.0, '4', 3.0, '3'], ['cheong-tseng eng', 3.0, '3', 1.0, '1', None, None, None, None, 4.0, '4', None, None]]\n"
     ]
    }
   ],
   "source": [
    "clean_data = []\n",
    "\n",
    "for array in new_data:\n",
    "    clean_array = []\n",
    "    for value in array:\n",
    "        try:\n",
    "            clean_array.append(float(value))\n",
    "        except:\n",
    "            pass\n",
    "        \n",
    "        if value == \"\":\n",
    "            clean_array.append(None)\n",
    "        else:\n",
    "            clean_array.append(value)\n",
    "    clean_data.append(clean_array)\n",
    "\n",
    "print clean_data\n",
    "            "
   ]
  },
  {
   "cell_type": "markdown",
   "metadata": {},
   "source": [
    "---\n",
    "\n",
    "### 19. Count the `None` values per person, and put counts in a dictionary.\n",
    "\n",
    "Use a for loop to count the number of `None` values per person. Create a dictionary with the names of the people as keys, and the counts of `None` as values.\n",
    "\n",
    "Who rated the most coffee brands? Who rated the least?"
   ]
  },
  {
   "cell_type": "code",
   "execution_count": 60,
   "metadata": {},
   "outputs": [
    {
     "name": "stdout",
     "output_type": "stream",
     "text": [
      "{'Dave H': 6, 'Ramesh': 5, 'Alex': 6, 'Rocky': 0, 'Zach': 4, 'Vanessa': 2, 'Deepthi': 5, 'India': 2, 'Matt': 0, 'Isabel': 2, 'April': 3, 'Alessandro': 3, 'Ajay Anand': 4, 'Otto': 2, 'Markus': 5, 'Hugh Jass': 0, 'David Feng': 1, 'Vijay': 0, 'cheong-tseng eng': 6, 'Alison': 3}\n",
      "['Dave H', 'Alex', 'cheong-tseng eng']\n"
     ]
    }
   ],
   "source": [
    "dictionary = {}\n",
    "max_people_so_far = []\n",
    "max_so_far = 0\n",
    "\n",
    "for array in clean_data:\n",
    "    none_values = 0\n",
    "    name = array[0]\n",
    "    for value in array:\n",
    "        if value == None:\n",
    "            none_values += 1\n",
    "    dictionary[name] = none_values\n",
    "    if none_values > max_so_far:\n",
    "        max_so_far = none_values\n",
    "        max_people_so_far = [name]\n",
    "    elif none_values == max_so_far:\n",
    "        max_people_so_far.append(name)\n",
    "    \n",
    "print dictionary\n",
    "print max_people_so_far\n"
   ]
  },
  {
   "cell_type": "markdown",
   "metadata": {},
   "source": [
    "---\n",
    "\n",
    "### 20. Calculate average rating per coffee brand.\n",
    "\n",
    "**Excluding `None` values**, calculate the average rating per brand of coffee.\n",
    "\n",
    "The final output should be a dictionary with keys as the coffee brand names, and their average rating as the values.\n",
    "\n",
    "Remember that average can be calculated as the sum of the ratings over the number of ratings:\n",
    "\n",
    "```python\n",
    "average_rating = float(sum(ratings_list))/len(ratings_list)\n",
    "```\n",
    "\n",
    "Print your dictionary to see the average brand ratings."
   ]
  },
  {
   "cell_type": "code",
   "execution_count": 64,
   "metadata": {},
   "outputs": [
    {
     "name": "stdout",
     "output_type": "stream",
     "text": [
      "{'PhilzCoffee': 2.85, 'WorkshopCafe': 3.4444444444444446, 'RitualCoffee': 3.1052631578947367, 'BlueBottleCoffee': 4.25, 'CaffeTrieste': 4.0, 'PeetsTea': 4.25, 'Starbucks': 2.85, 'FourBarrel': 3.0714285714285716, 'GrandCoffee': 3.789473684210526}\n"
     ]
    }
   ],
   "source": [
    "ratings_total = 0\n",
    "column_index = 1\n",
    "coffee_brand_ratings = {}\n",
    "\n",
    "for brand in new_header[1:]:\n",
    "    coffee_brand_ratings[brand] = []\n",
    "\n",
    "for brand in new_header[1:]:\n",
    "    for persons_data in clean_data:\n",
    "        persons_rating_for_this_brand = persons_data[column_index]\n",
    "        if persons_rating_for_this_brand is not None:\n",
    "            coffee_brand_ratings[brand].append(float(persons_rating_for_this_brand))\n",
    "    column_index += 1\n",
    "# print coffee_brand_ratings\n",
    "\n",
    "average_ratings = {}\n",
    "for brand, ratings in coffee_brand_ratings.iteritems():\n",
    "    average_ratings[brand] = sum(ratings) / len(ratings)\n",
    "\n",
    "print average_ratings"
   ]
  },
  {
   "cell_type": "markdown",
   "metadata": {},
   "source": [
    "---\n",
    "\n",
    "### 21. Create a list containing only the people's names."
   ]
  },
  {
   "cell_type": "code",
   "execution_count": 66,
   "metadata": {},
   "outputs": [
    {
     "name": "stdout",
     "output_type": "stream",
     "text": [
      "['Alison', 'April', 'Vijay', 'Vanessa', 'Isabel', 'India', 'Dave H', 'Deepthi', 'Ramesh', 'Hugh Jass', 'Alex', 'Ajay Anand', 'David Feng', 'Zach', 'Matt', 'Markus', 'Otto', 'Alessandro', 'Rocky', 'cheong-tseng eng']\n"
     ]
    }
   ],
   "source": [
    "peoples_names = []\n",
    "\n",
    "for person_data in clean_data:\n",
    "    peoples_names.append(person_data[0])\n",
    "    \n",
    "print peoples_names"
   ]
  },
  {
   "cell_type": "markdown",
   "metadata": {},
   "source": [
    "---\n",
    "\n",
    "### 22. Picking a name at random. What are the odds of choosing the same name three times in a row?\n",
    "\n",
    "Now we'll use a while-loop to \"brute force\" the odds of choosing the same name 3 times in a row randomly from the list of names.\n",
    "\n",
    "Below I've imported the **`random`** package, which has the essential function for this code **`random.choice()`**.\n",
    "The function takes a list as an argument, and returns one of the elements of that list at random."
   ]
  },
  {
   "cell_type": "code",
   "execution_count": 70,
   "metadata": {},
   "outputs": [
    {
     "data": {
      "text/plain": [
       "'Hugh Jass'"
      ]
     },
     "execution_count": 70,
     "metadata": {},
     "output_type": "execute_result"
    }
   ],
   "source": [
    "import random\n",
    "# Choose a random person from the list of people:\n",
    "# random.choice(people)\n",
    "\n",
    "random.choice(peoples_names)"
   ]
  },
  {
   "cell_type": "markdown",
   "metadata": {},
   "source": [
    "Write a function to choose a person from the list randomly three times and check if they are all the same\n",
    "\n",
    "Define a function that has the following properties:\n",
    "\n",
    "1. Takes a list (your list of names) as an argument.\n",
    "2. Selects a name using `random.choice(people)` three separate times.\n",
    "3. Returns `True` if the name was the same all three times. Otherwise returns `False`."
   ]
  },
  {
   "cell_type": "code",
   "execution_count": 74,
   "metadata": {},
   "outputs": [
    {
     "data": {
      "text/plain": [
       "False"
      ]
     },
     "execution_count": 74,
     "metadata": {},
     "output_type": "execute_result"
    }
   ],
   "source": [
    "def check_three_times_if_same(names):\n",
    "    pick_one = random.choice(names)\n",
    "    pick_two = random.choice(names)\n",
    "    pick_three = random.choice(names)\n",
    "    if pick_one == pick_two and pick_one == pick_three:\n",
    "        return True\n",
    "    else:\n",
    "        return False\n",
    "\n",
    "check_three_times_if_same(peoples_names)"
   ]
  },
  {
   "cell_type": "markdown",
   "metadata": {},
   "source": [
    "---\n",
    "\n",
    "### 23. Construct a while loop to run the choosing function until it returns True.\n",
    "\n",
    "Run the function until you draw the same person three times using a while-loop. Keep track of how many tries it took and print out the number of tries after it runs."
   ]
  },
  {
   "cell_type": "code",
   "execution_count": 78,
   "metadata": {},
   "outputs": [
    {
     "name": "stdout",
     "output_type": "stream",
     "text": [
      "493\n"
     ]
    }
   ],
   "source": [
    "number_of_tries = 0\n",
    "\n",
    "while check_three_times_if_same(peoples_names) == False:\n",
    "    number_of_tries += 1\n",
    "\n",
    "print number_of_tries"
   ]
  },
  {
   "cell_type": "code",
   "execution_count": null,
   "metadata": {
    "collapsed": true
   },
   "outputs": [],
   "source": []
  },
  {
   "cell_type": "code",
   "execution_count": null,
   "metadata": {
    "collapsed": true
   },
   "outputs": [],
   "source": []
  }
 ],
 "metadata": {
  "kernelspec": {
   "display_name": "Python 2",
   "language": "python",
   "name": "python2"
  },
  "language_info": {
   "codemirror_mode": {
    "name": "ipython",
    "version": 2
   },
   "file_extension": ".py",
   "mimetype": "text/x-python",
   "name": "python",
   "nbconvert_exporter": "python",
   "pygments_lexer": "ipython2",
   "version": "2.7.13"
  }
 },
 "nbformat": 4,
 "nbformat_minor": 1
}
