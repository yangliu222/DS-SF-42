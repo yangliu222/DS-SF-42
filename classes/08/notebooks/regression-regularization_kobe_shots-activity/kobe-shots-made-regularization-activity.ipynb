{
 "cells": [
  {
   "cell_type": "markdown",
   "metadata": {},
   "source": [
    "<img src=\"http://imgur.com/1ZcRyrc.png\" style=\"float: left; margin: 20px; height: 55px\">\n",
    "\n",
    "# DS-SF-42 | Class 8 | Regression - Addressing model fit\n",
    "\n",
    "<br>\n",
    "### _Predicting shots made per game by Kobe Bryant_\n",
    "\n",
    "_Authors: Kiefer Katovich (SF) and Gus Ostow (SF)_\n",
    "\n",
    "---\n",
    "\n",
    "The Kobe shots dataset has hundreds of columns representing different characteristics of each basketball game. Fitting an ordinary linear regression will cause issues that other datasets might not. In this exploration you will be diagnose issues with model fit using regression metrics, train/test split, and cross validation.\n",
    "\n",
    "\n",
    "### Plan\n",
    "\n",
    "Today I am going to flip the script: we are going to start the class with a hands-on partner activity to motivate the day's topic, then address the theory after.\n",
    "\n",
    "1. Motivating the problem\n",
    "3. Slides interlude\n",
    "2. Addressing the problem\n",
    "\n",
    "### Teams\n",
    "\n",
    "<img src=https://i.imgur.com/JI6ydY5.png align=left>\n",
    "<br><br><br><br><br><br><br><br><br><br><br><br><br><br>\n",
    "\n",
    "\n",
    "# <font color=blue>Part I</font> - Motifivating the problem\n",
    "\n",
    "\n",
    "---\n",
    "\n",
    "### 1. Load packages and data"
   ]
  },
  {
   "cell_type": "code",
   "execution_count": 5,
   "metadata": {},
   "outputs": [],
   "source": [
    "import numpy as np\n",
    "import pandas as pd\n",
    "\n",
    "from sklearn.linear_model import Ridge, Lasso, ElasticNet, LinearRegression\n",
    "from sklearn.model_selection import cross_val_score, train_test_split\n",
    "\n",
    "import matplotlib\n",
    "import matplotlib.pyplot as plt\n",
    "import seaborn as sns\n",
    "plt.style.use('fivethirtyeight')\n",
    "\n",
    "%config InlineBackend.figure_format = 'retina'\n",
    "%matplotlib inline"
   ]
  },
  {
   "cell_type": "code",
   "execution_count": 1,
   "metadata": {
    "collapsed": true
   },
   "outputs": [],
   "source": [
    "kobe = pd.read_csv('./datasets/kobe_superwide_games.csv')"
   ]
  },
  {
   "cell_type": "markdown",
   "metadata": {},
   "source": [
    "---\n",
    "\n",
    "### 2. Examine the data\n",
    "\n",
    "#### Guiding questions\n",
    "\n",
    "- How many columns are there? \n",
    "- Examine what the observations (rows) and columns represent.\n",
    "- Why does this dataset _feel_ different than the datasets we've touched so far?\n",
    "- What concerns do you have even before fitting your first model?"
   ]
  },
  {
   "cell_type": "code",
   "execution_count": 3,
   "metadata": {},
   "outputs": [],
   "source": [
    "# A:"
   ]
  },
  {
   "cell_type": "markdown",
   "metadata": {},
   "source": [
    "---\n",
    "\n",
    "### 3.  Prepare the dataset for training AND validation\n",
    "\n",
    "- Make predictor matrix `X` and target variable `y`\n",
    "- Split your data into a validation set using `train_test_split`"
   ]
  },
  {
   "cell_type": "code",
   "execution_count": 4,
   "metadata": {
    "collapsed": true
   },
   "outputs": [],
   "source": [
    "# A:"
   ]
  },
  {
   "cell_type": "markdown",
   "metadata": {},
   "source": [
    "---\n",
    "\n",
    "### 4. Build a linear regression predicting `SHOTS_MADE` from the rest of the columns.\n",
    "\n",
    "1. How does it perform? Keep the regression metrics we talked about on Tuesday in mind, like mean squared error, mean absolute error, and $R^2$\n",
    "2. Is there a disparity between your train set and your test set? What does that indicate?"
   ]
  },
  {
   "cell_type": "code",
   "execution_count": 5,
   "metadata": {
    "collapsed": true
   },
   "outputs": [],
   "source": [
    "# A:"
   ]
  },
  {
   "cell_type": "code",
   "execution_count": null,
   "metadata": {
    "collapsed": true
   },
   "outputs": [],
   "source": []
  },
  {
   "cell_type": "markdown",
   "metadata": {},
   "source": [
    "# <font color=blue> Interlude</font> - Slides\n",
    "\n",
    "Sit back and enjoy the show...\n",
    "\n",
    "----\n",
    "# <font color=blue> Part II</font> - Addressing the problem"
   ]
  },
  {
   "cell_type": "markdown",
   "metadata": {},
   "source": [
    "---\n",
    "\n",
    "### 6. Try fitting ealuating a  `Ridge` model instead of a standard `LinearRegression`\n",
    "The ridge regression is a model _similar_ to the standard linear regression, but for now let it remain shrouded in an \\*air\\* of mystery.\n",
    "\n",
    "Is it better than the Linear regression? On the training set? On the test set? Why do you think that is?"
   ]
  },
  {
   "cell_type": "code",
   "execution_count": 6,
   "metadata": {
    "collapsed": true
   },
   "outputs": [],
   "source": [
    "# A:\n"
   ]
  },
  {
   "cell_type": "markdown",
   "metadata": {},
   "source": [
    "---\n",
    "### 7. Examine your ridge model's coefficients\n",
    "\n",
    "Does anything jump out at you? Use any the tools we've learned so far like histograms, barplots, and other descriptive statistics to compare the ridge model's fit to the linear regression we used earlier.\n"
   ]
  },
  {
   "cell_type": "markdown",
   "metadata": {},
   "source": [
    "---\n",
    "\n",
    "### 8. Play around with the `alpha` hyper parameter\n",
    "\n",
    "How does this impact the coefficients of the fit model?\n",
    "\n",
    "#### EX:\n",
    "```python\n",
    "ridge = Ridge(alpha = 10.0)\n",
    "```\n",
    "\n",
    "Some good values to try might be `0`, `0.1`, `1.0`, `10`, `100`"
   ]
  },
  {
   "cell_type": "code",
   "execution_count": 7,
   "metadata": {
    "collapsed": true
   },
   "outputs": [],
   "source": [
    "# A:"
   ]
  },
  {
   "cell_type": "markdown",
   "metadata": {},
   "source": [
    "---\n",
    "\n",
    "### 9. Fit a `Lasso` model and examine it's coefficients\n",
    "\n",
    "Is it better than the Linear regression? Is it better than Ridge? What do the differences in results imply about the issues with the dataset?\n",
    "\n",
    "- Show the coefficient for variables, ordered from largest to smallest coefficient by absolute value.\n",
    "- What percent of the variables in the original dataset are \"zeroed-out\" by the lasso?\n",
    "- What are the most important predictors for how many shots Kobe made in a game?"
   ]
  },
  {
   "cell_type": "code",
   "execution_count": 8,
   "metadata": {
    "collapsed": true
   },
   "outputs": [],
   "source": [
    "# A:"
   ]
  },
  {
   "cell_type": "markdown",
   "metadata": {},
   "source": [
    "---\n",
    "\n",
    "### 10. Tune the alpha for your `Lasso` model\n",
    "\n",
    "How does this influence the coefficients? The model performance on the train and the test sets?"
   ]
  },
  {
   "cell_type": "code",
   "execution_count": 9,
   "metadata": {
    "collapsed": true
   },
   "outputs": [],
   "source": [
    "# A:"
   ]
  },
  {
   "cell_type": "markdown",
   "metadata": {},
   "source": [
    "---\n",
    "\n",
    "### 11. Synthesize what you've discovered\n",
    "\n",
    "Write a couple of sentences telling the story: \n",
    "- How did a standard linear regression perform on the Kobe dataset? What qualities of this dataset caused these results>\n",
    "- How did a Ridge perform in comparison? What clues could you glean from its coefficients? How does `alpha` seem to dictate the coefficients?\n",
    "- What about the the `Lasso`?\n",
    "- When will be useful?"
   ]
  },
  {
   "cell_type": "code",
   "execution_count": 10,
   "metadata": {
    "collapsed": true
   },
   "outputs": [],
   "source": [
    "# A:"
   ]
  }
 ],
 "metadata": {
  "kernelspec": {
   "display_name": "Python (ds42)",
   "language": "python",
   "name": "ds42"
  },
  "language_info": {
   "codemirror_mode": {
    "name": "ipython",
    "version": 2
   },
   "file_extension": ".py",
   "mimetype": "text/x-python",
   "name": "python",
   "nbconvert_exporter": "python",
   "pygments_lexer": "ipython2",
   "version": "2.7.14"
  }
 },
 "nbformat": 4,
 "nbformat_minor": 1
}
