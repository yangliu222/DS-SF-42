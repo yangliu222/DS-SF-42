{
 "cells": [
  {
   "cell_type": "markdown",
   "metadata": {},
   "source": [
    "# <b>Unsupervised Learning Week: Clustering</b>\n",
    "\n",
    "**Goals**\n",
    "\n",
    "- Clustering. What is it? Why is it used? What makes it qualify as unsupervised learning.\n",
    "- KMeans: The most popular clustering algorithm. How to use KMeans with Sklearn. \n",
    "- How to evaluate KMeans using Sklearn.\n",
    "- In class workshop: pick a dataset and do some clustering!!"
   ]
  },
  {
   "cell_type": "markdown",
   "metadata": {},
   "source": [
    "## What is clustering? What is unsupervised learning?"
   ]
  },
  {
   "cell_type": "code",
   "execution_count": null,
   "metadata": {},
   "outputs": [],
   "source": []
  },
  {
   "cell_type": "code",
   "execution_count": null,
   "metadata": {},
   "outputs": [],
   "source": []
  },
  {
   "cell_type": "code",
   "execution_count": null,
   "metadata": {},
   "outputs": [],
   "source": []
  },
  {
   "cell_type": "markdown",
   "metadata": {},
   "source": [
    "## Clustering\n",
    "\n",
    "Clustering comes natural to humans. We categorize each others, things, and other phenomenon all the time i.e. Millennials vs Generation X vs Boomers and Tudor vs Hacienda vs Contemporary houses. Categorizing helps us better understand things; if you tell me a certain person or thing belongs to a certain label, then I immediately gain a better understanding of their or its purpose.\n",
    "<br><br>\n",
    "What do you think are real world applications of clustering? Why would this be valuable to a business?\n",
    "<br><br>\n",
    "\"Clustering is a technique for finding similarity groups in a data, called clusters. It attempts to group individuals in a population together by similarity, but not driven by a specific purpose.\" http://bigdata-madesimple.com/possibly-the-simplest-way-to-explain-k-means-algorithm/\n",
    "<br><br>\n",
    "<b>CLUSTERING IS UNSUPERVISED LEARNING BECAUSE THERE ARE NO LABELS LIKE IN SUPERVISED LEARNING. THE POINT OF CLUSTERING IS TO GENERATE NEW LABELS FROM UNLABELLED DATA<b>"
   ]
  },
  {
   "cell_type": "code",
   "execution_count": null,
   "metadata": {},
   "outputs": [],
   "source": []
  },
  {
   "cell_type": "code",
   "execution_count": null,
   "metadata": {},
   "outputs": [],
   "source": [
    "#Imports\n",
    "import pandas as pd\n",
    "import numpy as np \n",
    "import matplotlib.pyplot as plt\n",
    "%matplotlib inline\n",
    "from sklearn.cluster import KMeans\n",
    "from sklearn.metrics import silhouette_score\n",
    "from sklearn.preprocessing import StandardScaler\n",
    "from sklearn.datasets import make_blobs, make_moons, make_circles, make_classification\n",
    "plt.style.use(\"fivethirtyeight\")"
   ]
  },
  {
   "cell_type": "code",
   "execution_count": null,
   "metadata": {},
   "outputs": [],
   "source": [
    "#Make fake data to visualize\n",
    "data = make_blobs(n_samples=250, centers = 4, cluster_std=.75, random_state=4)[0]"
   ]
  },
  {
   "cell_type": "code",
   "execution_count": null,
   "metadata": {},
   "outputs": [],
   "source": [
    "plt.figure(figsize=(10,6))\n",
    "plt.scatter(data[:,0], data[:,1], s=68);"
   ]
  },
  {
   "cell_type": "markdown",
   "metadata": {},
   "source": [
    "### How many clusters do you see?"
   ]
  },
  {
   "cell_type": "code",
   "execution_count": null,
   "metadata": {},
   "outputs": [],
   "source": []
  },
  {
   "cell_type": "code",
   "execution_count": null,
   "metadata": {},
   "outputs": [],
   "source": []
  },
  {
   "cell_type": "code",
   "execution_count": null,
   "metadata": {},
   "outputs": [],
   "source": []
  },
  {
   "cell_type": "markdown",
   "metadata": {},
   "source": [
    "Clustering is usually never this easy. Let's look at some more difficult data."
   ]
  },
  {
   "cell_type": "code",
   "execution_count": null,
   "metadata": {},
   "outputs": [],
   "source": [
    "#Make fake data\n",
    "data = make_classification(n_samples=400, n_features=2,n_informative=2,\n",
    "                           n_redundant=0, n_repeated=0, n_classes=2, n_clusters_per_class=2, random_state=1)[0]"
   ]
  },
  {
   "cell_type": "code",
   "execution_count": null,
   "metadata": {},
   "outputs": [],
   "source": [
    "plt.figure(figsize=(10,6))\n",
    "plt.scatter(data[:,0], data[:,1], s=68, alpha=.6);"
   ]
  },
  {
   "cell_type": "code",
   "execution_count": null,
   "metadata": {},
   "outputs": [],
   "source": []
  },
  {
   "cell_type": "markdown",
   "metadata": {},
   "source": [
    "## KMeans Algorithm\n",
    "\n",
    "- The most popular clustering algorithm\n",
    "- K in Kmeans stands for the number of clusters and centriods predetermined by you the data scientist.\n",
    "- Centriods are the center point of each cluster. The average of all of the points in the cluster, hence the means in kmeans.\n",
    "- A point is assigned to the cluster of the centriod it is closest to.\n",
    "- Algorithms works by randomly assigning centriods within the data and shifts the centriods until they reach convergence.\n",
    "- Basically means the algorithm keeps going until it finds the smallest value produced by this function:\n",
    "$$∑(x¯c−xi)^2$$\n",
    "<br><br>\n",
    "### KMeans in action\n",
    "\n",
    "![a](http://stanford.edu/~cpiech/cs221/img/kmeansViz.png)"
   ]
  },
  {
   "cell_type": "markdown",
   "metadata": {},
   "source": [
    "Interactive version:\n",
    "\n",
    "http://stanford.edu/class/ee103/visualizations/kmeans/kmeans.html"
   ]
  },
  {
   "cell_type": "code",
   "execution_count": null,
   "metadata": {},
   "outputs": [],
   "source": []
  },
  {
   "cell_type": "code",
   "execution_count": null,
   "metadata": {},
   "outputs": [],
   "source": []
  },
  {
   "cell_type": "markdown",
   "metadata": {},
   "source": [
    "**Things to keep in mind**\n",
    "\n",
    "- Needs features on the same or similar scales to be effective. \n",
    "\n",
    "- Vulnerable to noise from too many features and multicollinearity.\n",
    "\n",
    "- Assumes a linear boundary between clusters, which is not always the case as we're about to see."
   ]
  },
  {
   "cell_type": "code",
   "execution_count": null,
   "metadata": {},
   "outputs": [],
   "source": []
  },
  {
   "cell_type": "code",
   "execution_count": null,
   "metadata": {},
   "outputs": [],
   "source": []
  },
  {
   "cell_type": "markdown",
   "metadata": {},
   "source": [
    "### Clustering Time"
   ]
  },
  {
   "cell_type": "markdown",
   "metadata": {},
   "source": [
    "We're going to use KMeans to cluster different forms of data to demonstrate how abilities and limitations of KMeans."
   ]
  },
  {
   "cell_type": "markdown",
   "metadata": {},
   "source": [
    "Let's bring back the blobs and use KMeans on it."
   ]
  },
  {
   "cell_type": "code",
   "execution_count": null,
   "metadata": {},
   "outputs": [],
   "source": [
    "#Make fake data to visualize\n",
    "data = make_blobs(n_samples=250, centers = 4, cluster_std=.75, random_state=4)[0]\n",
    "\n",
    "plt.figure(figsize=(10,6))\n",
    "plt.scatter(data[:,0], data[:,1], s=68);"
   ]
  },
  {
   "cell_type": "code",
   "execution_count": null,
   "metadata": {},
   "outputs": [],
   "source": [
    "#Intialize the KMeans algorithm with 3 clusters\n",
    "\n",
    "\n",
    "#Fit model on data\n",
    "\n",
    "\n",
    "#Get the labels\n",
    "\n",
    "\n"
   ]
  },
  {
   "cell_type": "code",
   "execution_count": null,
   "metadata": {},
   "outputs": [],
   "source": [
    "#Can derive labels this way as well, using .predict\n",
    "\n"
   ]
  },
  {
   "cell_type": "code",
   "execution_count": null,
   "metadata": {},
   "outputs": [],
   "source": [
    "#The counts of labels\n"
   ]
  },
  {
   "cell_type": "code",
   "execution_count": null,
   "metadata": {},
   "outputs": [],
   "source": [
    "#Visualize the data with the color-encoded labels\n",
    "\n",
    "plt.figure(figsize=(10, 6))\n",
    "plt.scatter(data[:,0], data[:,1], s = 70, c = labels)"
   ]
  },
  {
   "cell_type": "markdown",
   "metadata": {},
   "source": [
    "Is this what you expected?\n"
   ]
  },
  {
   "cell_type": "code",
   "execution_count": null,
   "metadata": {},
   "outputs": [],
   "source": []
  },
  {
   "cell_type": "markdown",
   "metadata": {},
   "source": [
    "Centriods: The center point of each cluster. Equivalent to the average of the attributes for each label\n",
    "\n",
    "Let's replot the above chart but with the centriods."
   ]
  },
  {
   "cell_type": "code",
   "execution_count": null,
   "metadata": {},
   "outputs": [],
   "source": [
    "#Centriod values\n",
    "\n",
    "\n"
   ]
  },
  {
   "cell_type": "code",
   "execution_count": null,
   "metadata": {},
   "outputs": [],
   "source": [
    "#Visualize the data with the color-encoded labels along with the centriods\n",
    "\n",
    "plt.figure(figsize=(8,7))\n",
    "plt.scatter(data[:, 0], data[:, 1], s = 70, c=labels, alpha=.6)\n",
    "plt.scatter(centriods[:, 0], centriods[:, 1], s = 800, marker= \"+\", c = \"black\");"
   ]
  },
  {
   "cell_type": "code",
   "execution_count": null,
   "metadata": {},
   "outputs": [],
   "source": []
  },
  {
   "cell_type": "code",
   "execution_count": null,
   "metadata": {},
   "outputs": [],
   "source": []
  },
  {
   "cell_type": "markdown",
   "metadata": {},
   "source": [
    "Let's try it again with four clusters"
   ]
  },
  {
   "cell_type": "code",
   "execution_count": null,
   "metadata": {},
   "outputs": [],
   "source": [
    "#Intialize the KMeans algorithm with 4 clusters\n",
    "\n",
    "\n",
    "\n",
    "#Fit model on data\n",
    "\n",
    "\n",
    "#Get the labels\n"
   ]
  },
  {
   "cell_type": "code",
   "execution_count": null,
   "metadata": {},
   "outputs": [],
   "source": [
    "#The counts of labels\n"
   ]
  },
  {
   "cell_type": "code",
   "execution_count": null,
   "metadata": {},
   "outputs": [],
   "source": [
    "#Visualization\n",
    "centriods = \n",
    "\n",
    "\n",
    "plt.figure(figsize=(10, 6))\n",
    "plt.scatter(data[:,0], data[:,1], s = 70, c = labels, alpha=.6)\n",
    "plt.scatter(centriods[:, 0], centriods[:, 1], s = 800, marker= \"+\", c = \"black\");"
   ]
  },
  {
   "cell_type": "code",
   "execution_count": null,
   "metadata": {},
   "outputs": [],
   "source": []
  },
  {
   "cell_type": "markdown",
   "metadata": {},
   "source": [
    "Does this change your answer to the \"How many clusters do you see?\" question."
   ]
  },
  {
   "cell_type": "code",
   "execution_count": null,
   "metadata": {},
   "outputs": [],
   "source": []
  },
  {
   "cell_type": "code",
   "execution_count": null,
   "metadata": {},
   "outputs": [],
   "source": []
  },
  {
   "cell_type": "markdown",
   "metadata": {},
   "source": [
    "Cluster the random data from earlier"
   ]
  },
  {
   "cell_type": "code",
   "execution_count": null,
   "metadata": {},
   "outputs": [],
   "source": [
    "#Make fake data\n",
    "data = make_classification(n_samples=400, n_features=2,n_informative=2,\n",
    "                           n_redundant=0, n_repeated=0, n_classes=2, n_clusters_per_class=2, random_state=1)[0]\n",
    "\n",
    "#Visualize\n",
    "plt.figure(figsize=(10,6))\n",
    "plt.scatter(data[:,0], data[:,1], s=68, alpha=.6);"
   ]
  },
  {
   "cell_type": "markdown",
   "metadata": {},
   "source": [
    "What cluster value should we set?"
   ]
  },
  {
   "cell_type": "code",
   "execution_count": null,
   "metadata": {},
   "outputs": [],
   "source": [
    "#Intialize the KMeans algorithm with 4 clusters\n",
    "\n",
    "\n",
    "\n",
    "#Fit model on data\n",
    "\n",
    "\n",
    "#Get the labels\n",
    "\n",
    "\n",
    "\n",
    "#Assign centriods\n",
    "\n",
    "\n",
    "\n",
    "#Values counts of labels\n"
   ]
  },
  {
   "cell_type": "code",
   "execution_count": null,
   "metadata": {},
   "outputs": [],
   "source": [
    "#Visualize color-encoded data\n",
    "\n",
    "plt.figure(figsize=(8,6))\n",
    "plt.scatter(data[:, 0], data[:, 1], c = labels, s = 70, alpha=.6)\n",
    "plt.scatter(cents[:, 0], cents[:, 1], c = \"black\", marker=\"+\", s = 700)"
   ]
  },
  {
   "cell_type": "markdown",
   "metadata": {},
   "source": [
    "Is this what you expected?"
   ]
  },
  {
   "cell_type": "code",
   "execution_count": null,
   "metadata": {},
   "outputs": [],
   "source": []
  },
  {
   "cell_type": "code",
   "execution_count": null,
   "metadata": {},
   "outputs": [],
   "source": []
  },
  {
   "cell_type": "markdown",
   "metadata": {},
   "source": [
    "Let's try this on \"moons\" data."
   ]
  },
  {
   "cell_type": "code",
   "execution_count": null,
   "metadata": {},
   "outputs": [],
   "source": [
    "#Make moon data\n",
    "\n",
    "data = make_moons(n_samples=400, noise=.20)[0]\n",
    "\n",
    "#Visualize\n",
    "plt.figure(figsize=(10,6))\n",
    "plt.scatter(data[:,0], data[:,1], s=68, alpha=.6);"
   ]
  },
  {
   "cell_type": "markdown",
   "metadata": {},
   "source": [
    "Cluster with 2 clusters"
   ]
  },
  {
   "cell_type": "code",
   "execution_count": null,
   "metadata": {},
   "outputs": [],
   "source": [
    "#Intialize the KMeans algorithm with 2 clusters\n",
    "\n",
    "\n",
    "\n",
    "#Fit model on data\n",
    "\n",
    "\n",
    "#Get the labels\n",
    "\n",
    "\n",
    "\n",
    "#Centriods\n",
    "\n",
    "\n",
    "\n",
    "\n",
    "#Visualize color-encoded data\n",
    "plt.figure(figsize=(8, 7))\n",
    "plt.scatter(data[:, 0], data[:, 1], c= labels, s = 70, alpha=.5)\n",
    "plt.scatter(cents[:, 0], cents[:, 1], c = \"black\", marker= \"+\", s = 700)"
   ]
  },
  {
   "cell_type": "markdown",
   "metadata": {},
   "source": [
    "How do you rate the results of this clustering algorithm?"
   ]
  },
  {
   "cell_type": "code",
   "execution_count": null,
   "metadata": {},
   "outputs": [],
   "source": []
  },
  {
   "cell_type": "code",
   "execution_count": null,
   "metadata": {},
   "outputs": [],
   "source": []
  },
  {
   "cell_type": "markdown",
   "metadata": {},
   "source": [
    "Let's use KMeans on \"circles\""
   ]
  },
  {
   "cell_type": "code",
   "execution_count": null,
   "metadata": {},
   "outputs": [],
   "source": [
    "#Make circles data\n",
    "\n",
    "data = make_circles(n_samples=800, noise=.05, factor=0.5)[0]\n",
    "\n",
    "#Visualize\n",
    "plt.figure(figsize=(10,6))\n",
    "plt.scatter(data[:,0], data[:,1], s=68, alpha=.6);"
   ]
  },
  {
   "cell_type": "code",
   "execution_count": null,
   "metadata": {},
   "outputs": [],
   "source": []
  },
  {
   "cell_type": "code",
   "execution_count": null,
   "metadata": {},
   "outputs": [],
   "source": []
  },
  {
   "cell_type": "markdown",
   "metadata": {},
   "source": [
    "How do you think this data will interact with KMeans?"
   ]
  },
  {
   "cell_type": "code",
   "execution_count": null,
   "metadata": {},
   "outputs": [],
   "source": []
  },
  {
   "cell_type": "markdown",
   "metadata": {},
   "source": [
    "Let's find out."
   ]
  },
  {
   "cell_type": "code",
   "execution_count": null,
   "metadata": {},
   "outputs": [],
   "source": [
    "#Intialize the KMeans algorithm with 2 clusters\n",
    "\n",
    "\n",
    "\n",
    "#Fit model on data\n",
    "\n",
    "\n",
    "#Get the labels\n",
    "\n",
    "\n",
    "\n",
    "#Centriods\n",
    "\n",
    "\n",
    "\n",
    "\n",
    "#Visualize color-encoded data\n",
    "plt.figure(figsize=(8, 7))\n",
    "plt.scatter(data[:, 0], data[:, 1], c = labels, s = 70, alpha=.5)\n",
    "plt.scatter(cents[:, 0], cents[:, 1], c = \"black\", marker=\"+\", s = 700)"
   ]
  },
  {
   "cell_type": "code",
   "execution_count": null,
   "metadata": {},
   "outputs": [],
   "source": []
  },
  {
   "cell_type": "code",
   "execution_count": null,
   "metadata": {},
   "outputs": [],
   "source": []
  },
  {
   "cell_type": "markdown",
   "metadata": {},
   "source": [
    "Does this match your expectation?"
   ]
  },
  {
   "cell_type": "code",
   "execution_count": null,
   "metadata": {},
   "outputs": [],
   "source": []
  },
  {
   "cell_type": "code",
   "execution_count": null,
   "metadata": {},
   "outputs": [],
   "source": []
  },
  {
   "cell_type": "markdown",
   "metadata": {},
   "source": [
    "KMeans is great but not it's not perfect, there's other algorithm that are better clustering the the types of data KMean is not good at clustering.\n",
    "\n",
    "<br>\n",
    "\n",
    "Now let's use KMeans on real world data."
   ]
  },
  {
   "cell_type": "code",
   "execution_count": null,
   "metadata": {},
   "outputs": [],
   "source": []
  },
  {
   "cell_type": "markdown",
   "metadata": {},
   "source": [
    "## Clustering Country Data\n",
    "\n",
    "<br>\n",
    "\n",
    "- In this section we're going to use KMeans to cluster countries based on their socio-economic attributes such as unemployment, electricity, and infant mortality.\n",
    "\n",
    "- How to evaluate clusters using the elbow method and silhouette score\n",
    "\n",
    "- Scaling features improves results"
   ]
  },
  {
   "cell_type": "code",
   "execution_count": null,
   "metadata": {},
   "outputs": [],
   "source": [
    "\n",
    "path = \"../../data/country_development_data.pkl\"\n",
    "\n",
    "#Load in data and assign it to df\n",
    "df = pd.read_pickle(path)\n",
    "\n",
    "#Look at first five rows\n",
    "df.head()"
   ]
  },
  {
   "cell_type": "code",
   "execution_count": null,
   "metadata": {},
   "outputs": [],
   "source": [
    "#Shape\n",
    "\n"
   ]
  },
  {
   "cell_type": "markdown",
   "metadata": {},
   "source": [
    "159 countries and 21 attributes."
   ]
  },
  {
   "cell_type": "code",
   "execution_count": null,
   "metadata": {},
   "outputs": [],
   "source": [
    "#Look at columns\n"
   ]
  },
  {
   "cell_type": "code",
   "execution_count": null,
   "metadata": {},
   "outputs": [],
   "source": [
    "#Rename cols to make things easier\n",
    "\n",
    "new_cols = [\"electric_accces\", \"renewables_percent\", \"co2_emissions\", \"commercial_bank\",\n",
    "           \"credit_information_index_depth\", \"legal_rights\", \"cell_phone_usage\",\n",
    "           \"internet_users\",\"gdp_per_cap\", \"women_politicians\", \"communicable_disease_rate\", \"health_per_cap\",\n",
    "           \"female_labor_rate\", \"unemploy_rate\", \"net_migration\", \"mortality_rate\", \"life_exp\",\n",
    "           \"female_survival_65\", \"child_popul\", \"age_depend_ratio\", \"urban_pop\"]\n",
    "df.columns = new_cols\n",
    "df.head()"
   ]
  },
  {
   "cell_type": "code",
   "execution_count": null,
   "metadata": {},
   "outputs": [],
   "source": []
  },
  {
   "cell_type": "code",
   "execution_count": null,
   "metadata": {},
   "outputs": [],
   "source": []
  },
  {
   "cell_type": "markdown",
   "metadata": {},
   "source": [
    "Let's pick 5 - 7 of the 21 attributes to work with. Attributes need to be fairly different from one another."
   ]
  },
  {
   "cell_type": "code",
   "execution_count": null,
   "metadata": {},
   "outputs": [],
   "source": [
    "df.columns"
   ]
  },
  {
   "cell_type": "code",
   "execution_count": null,
   "metadata": {},
   "outputs": [],
   "source": [
    "#Creat subset list of columns\n",
    "subset = ['gdp_per_cap', 'life_exp', \"urban_pop\", \"net_migration\", 'unemploy_rate',\n",
    "         'legal_rights', 'internet_users']\n",
    "\n",
    "\n",
    "\n"
   ]
  },
  {
   "cell_type": "markdown",
   "metadata": {},
   "source": [
    "Let's cluster the countries using 2, 3, and 5 clusters"
   ]
  },
  {
   "cell_type": "code",
   "execution_count": null,
   "metadata": {},
   "outputs": [],
   "source": []
  },
  {
   "cell_type": "markdown",
   "metadata": {},
   "source": [
    "2 Clusters:"
   ]
  },
  {
   "cell_type": "code",
   "execution_count": null,
   "metadata": {},
   "outputs": [],
   "source": [
    "# X"
   ]
  },
  {
   "cell_type": "code",
   "execution_count": null,
   "metadata": {},
   "outputs": [],
   "source": [
    "#Make a copy of df2 and assign it to X\n",
    "\n",
    "\n",
    "\n",
    "#Intialize kmeans with 2 clusters and random_state = 10\n",
    "\n",
    "\n",
    "#Fit model on X\n",
    "\n",
    "\n",
    "#Generate labels\n",
    "\n",
    "##Method 1\n",
    "\n",
    "\n",
    "\n",
    "\n",
    "#Value_counts\n"
   ]
  },
  {
   "cell_type": "code",
   "execution_count": null,
   "metadata": {},
   "outputs": [],
   "source": [
    "#Cluster centriods\n",
    "\n",
    "\n"
   ]
  },
  {
   "cell_type": "code",
   "execution_count": null,
   "metadata": {},
   "outputs": [],
   "source": [
    "#Add labels to the dataframe and view centriods using pandas\n",
    "\n",
    "\n",
    "\n",
    "\n",
    "\n"
   ]
  },
  {
   "cell_type": "code",
   "execution_count": null,
   "metadata": {},
   "outputs": [],
   "source": []
  },
  {
   "cell_type": "markdown",
   "metadata": {},
   "source": [
    "What separates the two clusters? How would you describe cluster 0 and cluster 1?"
   ]
  },
  {
   "cell_type": "code",
   "execution_count": null,
   "metadata": {},
   "outputs": [],
   "source": []
  },
  {
   "cell_type": "markdown",
   "metadata": {},
   "source": [
    "### Evaluation clusters silhouette score"
   ]
  },
  {
   "cell_type": "markdown",
   "metadata": {},
   "source": [
    "The [Silhouette Coefficient](http://scikit-learn.org/stable/modules/clustering.html#silhouette-coefficient) is a common metric for evaluating clustering \"performance\" in situations when the \"true\" cluster assignments are not known.\n",
    "\n",
    "A Silhouette Coefficient is calculated for **each observation**:\n",
    "\n",
    "$$SC = \\frac{b-a} {max(a, b)}$$\n",
    "\n",
    "- a = mean distance to all other points in **its cluster**\n",
    "- b = mean distance to all other points in **the next nearest cluster**\n",
    "\n",
    "It ranges from -1 (worst) to 1 (best). A **global score** is calculated by taking the mean score for all observations. Ideally, you want a score greater than at least 0.2."
   ]
  },
  {
   "cell_type": "markdown",
   "metadata": {},
   "source": [
    "![w](http://scikit-learn.org/stable/_images/sphx_glr_plot_kmeans_silhouette_analysis_001.png)\n",
    "\n",
    "![a](http://scikit-learn.org/stable/_images/sphx_glr_plot_kmeans_silhouette_analysis_002.png)\n",
    "\n",
    "![e](http://scikit-learn.org/stable/_images/sphx_glr_plot_kmeans_silhouette_analysis_003.png)\n",
    "\n",
    "![t](http://scikit-learn.org/stable/_images/sphx_glr_plot_kmeans_silhouette_analysis_004.png)\n",
    "\n",
    "![y](http://scikit-learn.org/stable/_images/sphx_glr_plot_kmeans_silhouette_analysis_005.png)\n",
    "Source: Sci-kit learn"
   ]
  },
  {
   "cell_type": "code",
   "execution_count": null,
   "metadata": {},
   "outputs": [],
   "source": []
  },
  {
   "cell_type": "markdown",
   "metadata": {},
   "source": [
    "Derive silhouette score of country data and labels"
   ]
  },
  {
   "cell_type": "code",
   "execution_count": null,
   "metadata": {},
   "outputs": [],
   "source": [
    "#Pass in df2 without labs2 column and the labs2 variable into silhouette_score function\n"
   ]
  },
  {
   "cell_type": "code",
   "execution_count": null,
   "metadata": {},
   "outputs": [],
   "source": []
  },
  {
   "cell_type": "markdown",
   "metadata": {},
   "source": [
    "3 Clusters"
   ]
  },
  {
   "cell_type": "code",
   "execution_count": null,
   "metadata": {},
   "outputs": [],
   "source": [
    "#Intialize kmeans with 3 clusters and random_state = 10\n",
    "\n",
    "km3 = \n",
    "#Fit model\n",
    "\n",
    "\n",
    "#Generate labels\n",
    "\n",
    "##Method 1\n",
    "labels = \n",
    "##Method 2\n",
    "# labels = km3.predict(X)\n",
    "\n",
    "\n",
    "#Add labs3 to df2\n",
    "\n",
    "\n",
    "\n",
    "#Value_counts\n"
   ]
  },
  {
   "cell_type": "markdown",
   "metadata": {},
   "source": [
    "Silhouette scoring"
   ]
  },
  {
   "cell_type": "code",
   "execution_count": null,
   "metadata": {},
   "outputs": [],
   "source": []
  },
  {
   "cell_type": "markdown",
   "metadata": {},
   "source": [
    "Analyze clusters by looking at centriods"
   ]
  },
  {
   "cell_type": "code",
   "execution_count": null,
   "metadata": {},
   "outputs": [],
   "source": []
  },
  {
   "cell_type": "code",
   "execution_count": null,
   "metadata": {},
   "outputs": [],
   "source": []
  },
  {
   "cell_type": "markdown",
   "metadata": {},
   "source": [
    "What are the three types of countries?"
   ]
  },
  {
   "cell_type": "code",
   "execution_count": null,
   "metadata": {},
   "outputs": [],
   "source": []
  },
  {
   "cell_type": "code",
   "execution_count": null,
   "metadata": {},
   "outputs": [],
   "source": []
  },
  {
   "cell_type": "markdown",
   "metadata": {},
   "source": [
    "Let's compare the two sets of labels"
   ]
  },
  {
   "cell_type": "code",
   "execution_count": null,
   "metadata": {},
   "outputs": [],
   "source": [
    "#Pass in the labs2 and labs3 columns of df2 into pandas crosstab function\n",
    "\n"
   ]
  },
  {
   "cell_type": "markdown",
   "metadata": {},
   "source": [
    "What do you notice about this table?"
   ]
  },
  {
   "cell_type": "code",
   "execution_count": null,
   "metadata": {},
   "outputs": [],
   "source": []
  },
  {
   "cell_type": "code",
   "execution_count": null,
   "metadata": {},
   "outputs": [],
   "source": []
  },
  {
   "cell_type": "markdown",
   "metadata": {},
   "source": [
    "Exercise: Analyze the data using five clusters"
   ]
  },
  {
   "cell_type": "code",
   "execution_count": null,
   "metadata": {},
   "outputs": [],
   "source": [
    "#Intialize kmeans with 5 clusters\n",
    "km5 = \n",
    "\n",
    "#Fit model\n",
    "\n",
    "\n",
    "#Generate labels\n",
    "\n",
    "\n",
    "\n",
    "#Add labs5 to df2\n",
    "\n",
    " \n",
    "\n",
    "#Value_counts\n"
   ]
  },
  {
   "cell_type": "code",
   "execution_count": null,
   "metadata": {},
   "outputs": [],
   "source": [
    "#Silhoeute score\n"
   ]
  },
  {
   "cell_type": "code",
   "execution_count": null,
   "metadata": {},
   "outputs": [],
   "source": [
    "#Centriods\n"
   ]
  },
  {
   "cell_type": "code",
   "execution_count": null,
   "metadata": {},
   "outputs": [],
   "source": []
  },
  {
   "cell_type": "code",
   "execution_count": null,
   "metadata": {},
   "outputs": [],
   "source": []
  },
  {
   "cell_type": "markdown",
   "metadata": {},
   "source": [
    "What are the five different types of countries?"
   ]
  },
  {
   "cell_type": "code",
   "execution_count": null,
   "metadata": {},
   "outputs": [],
   "source": []
  },
  {
   "cell_type": "code",
   "execution_count": null,
   "metadata": {},
   "outputs": [],
   "source": []
  },
  {
   "cell_type": "markdown",
   "metadata": {},
   "source": [
    "Plotting time. Let's plot a range of cluster values versus silhouette scores. Make a validation curve similar to how we did with KNN and neighbors or Decision Trees and max_depth."
   ]
  },
  {
   "cell_type": "code",
   "execution_count": null,
   "metadata": {},
   "outputs": [],
   "source": [
    "#Intialize range of cluster values from 2 to 16\n",
    "\n",
    "\n",
    "#Intialize list to store silhouette scores\n",
    "\n",
    "\n",
    "\n",
    "#Iterate over cluster range, fit models and add score to s_scores\n",
    "\n",
    "for cluster in cluster_range:\n",
    "    \n",
    "    \n",
    "#Plot clusters versus scores\n",
    "\n",
    "plt.plot(cluster_range, s_scores, linewidth = 4)\n",
    "plt.xlabel(\"K Values\")\n",
    "plt.ylabel(\"Silhouette Scores\")"
   ]
  },
  {
   "cell_type": "code",
   "execution_count": null,
   "metadata": {},
   "outputs": [],
   "source": []
  },
  {
   "cell_type": "code",
   "execution_count": null,
   "metadata": {},
   "outputs": [],
   "source": []
  },
  {
   "cell_type": "markdown",
   "metadata": {},
   "source": [
    "Whats the best cluster value?"
   ]
  },
  {
   "cell_type": "code",
   "execution_count": null,
   "metadata": {},
   "outputs": [],
   "source": []
  },
  {
   "cell_type": "code",
   "execution_count": null,
   "metadata": {},
   "outputs": [],
   "source": []
  },
  {
   "cell_type": "code",
   "execution_count": null,
   "metadata": {},
   "outputs": [],
   "source": []
  },
  {
   "cell_type": "markdown",
   "metadata": {},
   "source": [
    "Elbow method cluster evaluation"
   ]
  },
  {
   "cell_type": "code",
   "execution_count": null,
   "metadata": {},
   "outputs": [],
   "source": [
    "#Call interia score on km5\n",
    "\n"
   ]
  },
  {
   "cell_type": "markdown",
   "metadata": {},
   "source": [
    "[\"Inertia, or the within-cluster sum of squares criterion (SSE), can be recognized as a measure of how internally coherent clusters are.\"](http://scikit-learn.org/stable/modules/clustering.html)"
   ]
  },
  {
   "cell_type": "markdown",
   "metadata": {},
   "source": [
    "We're going to plot a range of cluster values versus the inertia score in order to determine the best cluster value using the \"elbow method.\""
   ]
  },
  {
   "cell_type": "code",
   "execution_count": null,
   "metadata": {},
   "outputs": [],
   "source": [
    "#Intialize range of cluster values from 2 to 16\n",
    "\n",
    "\n",
    "#Intialize list to store inertia scores\n",
    "\n",
    "\n",
    "\n",
    "#Iterate over cluster range, fit models and add score to s_scores\n",
    "    \n",
    "#Plot clusters versus scores\n",
    "\n",
    "plt.plot(cluster_range, i_scores)"
   ]
  },
  {
   "cell_type": "markdown",
   "metadata": {},
   "source": [
    "Where is the \"elbow\" in this chart? The elbow is where the best K value lies. \n",
    "\n",
    "Imagine the line as an arm."
   ]
  },
  {
   "cell_type": "code",
   "execution_count": null,
   "metadata": {},
   "outputs": [],
   "source": []
  },
  {
   "cell_type": "code",
   "execution_count": null,
   "metadata": {},
   "outputs": [],
   "source": []
  },
  {
   "cell_type": "markdown",
   "metadata": {},
   "source": [
    "Increasing K is always going to decrease the SSE, but what's the point of using a KMeans algorithm with 1000 K-value algorithm on a 1000 row dataset.\n",
    "\n",
    "We want to choose a K that's at the beginning of the diminishing margin of returns."
   ]
  },
  {
   "cell_type": "code",
   "execution_count": null,
   "metadata": {},
   "outputs": [],
   "source": []
  },
  {
   "cell_type": "code",
   "execution_count": null,
   "metadata": {},
   "outputs": [],
   "source": []
  },
  {
   "cell_type": "markdown",
   "metadata": {},
   "source": [
    "### Scaling features and KMeans"
   ]
  },
  {
   "cell_type": "markdown",
   "metadata": {},
   "source": [
    "We're going to demonstrate the need for scaling by clustering the data with all of the attributes"
   ]
  },
  {
   "cell_type": "code",
   "execution_count": null,
   "metadata": {},
   "outputs": [],
   "source": [
    "#Reassign X\n",
    "\n"
   ]
  },
  {
   "cell_type": "markdown",
   "metadata": {},
   "source": [
    "Cluster with k = 3"
   ]
  },
  {
   "cell_type": "code",
   "execution_count": null,
   "metadata": {},
   "outputs": [],
   "source": [
    "#Intialize kmeans with 3 clusters and random_state = 10\n",
    "\n",
    "\n",
    "#Fit model\n",
    "\n",
    "\n",
    "#Generate labels\n",
    "\n",
    "\n",
    "\n",
    "#Value_counts\n"
   ]
  },
  {
   "cell_type": "code",
   "execution_count": null,
   "metadata": {},
   "outputs": [],
   "source": [
    "#Silhouette score\n"
   ]
  },
  {
   "cell_type": "code",
   "execution_count": null,
   "metadata": {},
   "outputs": [],
   "source": []
  },
  {
   "cell_type": "code",
   "execution_count": null,
   "metadata": {},
   "outputs": [],
   "source": []
  },
  {
   "cell_type": "markdown",
   "metadata": {},
   "source": [
    "You can't really say that there are clusters here. Two-thirds of the clusters only account for 3 percent of the data. This is evidence of outliers skewing the dataset. So even though, we're producing a high silhouette score, this isn't much of a cluster analysis"
   ]
  },
  {
   "cell_type": "code",
   "execution_count": null,
   "metadata": {},
   "outputs": [],
   "source": []
  },
  {
   "cell_type": "code",
   "execution_count": null,
   "metadata": {},
   "outputs": [],
   "source": []
  },
  {
   "cell_type": "code",
   "execution_count": null,
   "metadata": {},
   "outputs": [],
   "source": []
  },
  {
   "cell_type": "markdown",
   "metadata": {},
   "source": [
    "Let's go ahead and scale the data and refit a clustering algorithm"
   ]
  },
  {
   "cell_type": "code",
   "execution_count": null,
   "metadata": {},
   "outputs": [],
   "source": [
    "#Intialize scaler\n",
    "\n",
    "\n",
    "#Fit and transform scaler on data\n",
    "\n",
    "\n",
    "#Intialize kmeans with 3 clusters and random_state = 10\n",
    "\n",
    "\n",
    "#Fit model\n",
    "\n",
    "\n",
    "#Generate labels\n",
    "\n",
    "\n",
    "\n",
    "\n",
    "#Value_counts\n"
   ]
  },
  {
   "cell_type": "code",
   "execution_count": null,
   "metadata": {},
   "outputs": [],
   "source": [
    "#Score\n",
    "\n"
   ]
  },
  {
   "cell_type": "code",
   "execution_count": null,
   "metadata": {},
   "outputs": [],
   "source": []
  },
  {
   "cell_type": "code",
   "execution_count": null,
   "metadata": {},
   "outputs": [],
   "source": []
  },
  {
   "cell_type": "markdown",
   "metadata": {},
   "source": [
    "Let's go ahead and look at some of the countries in each cluster.\n",
    "\n",
    "We're going randomly pick 10 countries from each cluster (0, 1, 2)"
   ]
  },
  {
   "cell_type": "code",
   "execution_count": null,
   "metadata": {},
   "outputs": [],
   "source": [
    "#Create dataframe with countries as indices and use labs3_s as the values\n",
    "\n",
    "country_labels = \n"
   ]
  },
  {
   "cell_type": "code",
   "execution_count": null,
   "metadata": {},
   "outputs": [],
   "source": [
    "#Cluster 0\n",
    "\n"
   ]
  },
  {
   "cell_type": "code",
   "execution_count": null,
   "metadata": {},
   "outputs": [],
   "source": [
    "#Cluster 1\n"
   ]
  },
  {
   "cell_type": "code",
   "execution_count": null,
   "metadata": {},
   "outputs": [],
   "source": [
    "#Cluster 2\n"
   ]
  },
  {
   "cell_type": "markdown",
   "metadata": {},
   "source": [
    "Let's make validation curves using both silhoeutte and inertia scores"
   ]
  },
  {
   "cell_type": "markdown",
   "metadata": {},
   "source": [
    "Sihouette Score Plot:"
   ]
  },
  {
   "cell_type": "code",
   "execution_count": null,
   "metadata": {},
   "outputs": [],
   "source": [
    "#Intialize range of cluster values from 2 to 16\n",
    "\n",
    "\n",
    "#Intialize list to store silhouette scores\n",
    "\n",
    "\n",
    "\n",
    "#Iterate over cluster range, fit models and add score to s_scores\n",
    "\n",
    "    \n",
    "#Plot clusters versus scores\n",
    "\n",
    "plt.figure(figsize=(10, 7))\n",
    "plt.plot(cluster_range, s_scores, linewidth = 6, alpha = .8, c = \"r\")\n",
    "plt.xlabel(\"Cluster Values\")\n",
    "plt.ylabel(\"Silhoeuette Scores\");"
   ]
  },
  {
   "cell_type": "markdown",
   "metadata": {},
   "source": [
    "Inertia Scores Plot:"
   ]
  },
  {
   "cell_type": "code",
   "execution_count": null,
   "metadata": {},
   "outputs": [],
   "source": [
    "\n",
    "\n",
    "#Intialize list to store inertia scores\n",
    "\n",
    "\n",
    "\n",
    "#Iterate over cluster range, fit models and add score to s_scores\n",
    "\n",
    "    \n",
    "#Plot clusters versus scores\n",
    "\n",
    "plt.figure(figsize=(10, 7))\n",
    "plt.plot(cluster_range, i_scores, linewidth = 6, alpha = .8, c = \"g\")\n",
    "plt.xlabel(\"Cluster Values\")\n",
    "plt.ylabel(\"Inertia Scores\");"
   ]
  },
  {
   "cell_type": "code",
   "execution_count": null,
   "metadata": {},
   "outputs": [],
   "source": []
  },
  {
   "cell_type": "code",
   "execution_count": null,
   "metadata": {},
   "outputs": [],
   "source": []
  },
  {
   "cell_type": "markdown",
   "metadata": {},
   "source": [
    "What's the ideal number of clusters? Which plot should we use to determine that ?"
   ]
  },
  {
   "cell_type": "code",
   "execution_count": null,
   "metadata": {},
   "outputs": [],
   "source": []
  },
  {
   "cell_type": "code",
   "execution_count": null,
   "metadata": {},
   "outputs": [],
   "source": []
  },
  {
   "cell_type": "code",
   "execution_count": null,
   "metadata": {},
   "outputs": [],
   "source": []
  },
  {
   "cell_type": "markdown",
   "metadata": {},
   "source": [
    "**The hardest part of clustering is that it's hard to find the right answers!!**"
   ]
  },
  {
   "cell_type": "code",
   "execution_count": null,
   "metadata": {},
   "outputs": [],
   "source": []
  },
  {
   "cell_type": "code",
   "execution_count": null,
   "metadata": {},
   "outputs": [],
   "source": []
  },
  {
   "cell_type": "markdown",
   "metadata": {},
   "source": [
    "# Resources:\n",
    "\n",
    "**Kmeans:**\n",
    "\n",
    "- https://kapilddatascience.wordpress.com/2015/09/06/introduction-to-k-means-clustering-part-1/\n",
    "- http://fromdatawithlove.thegovans.us/2013/05/clustering-using-scikit-learn.html\n",
    "- Great code walk through of clustering project:https://github.com/net70/KMeans-Clustering---Scikit-Learn/blob/master/KMeans%20Clustering%20-%20Scikit-Learn.ipynb\n",
    "- My favorite tutorial: https://www.datascience.com/blog/k-means-clustering\n",
    "- Really like this too: https://github.com/YuChunLOL/kmeans-dbscan-tutorial/blob/master/tutorial_and_labs/clustering-tutorial.ipynb\n",
    "\n",
    "\n",
    "## Other types of clustering\n",
    "\n",
    "**Hierarchical/Agglomerative**\n",
    "\n",
    "- https://onlinecourses.science.psu.edu/stat505/node/143\n",
    "- https://www.youtube.com/watch?v=XJ3194AmH40\n",
    "- http://uc-r.github.io/hc_clustering (In R, but still a good resource)\n",
    "- http://people.revoledu.com/kardi/tutorial/Clustering/index.html\n",
    "- https://www.coursera.org/learn/cluster-analysis/lecture/LYX9a/4-2-agglomerative-clustering-algorithms\n",
    "- https://blog.biolab.si/2015/12/02/hierarchical-clustering-a-simple-explanation/\n",
    "\n",
    "**DBScan**\n",
    "\n",
    "- https://blog.dominodatalab.com/topology-and-density-based-clustering/\n",
    "- https://www.naftaliharris.com/blog/visualizing-dbscan-clustering/\n",
    "- https://www.slideshare.net/ssakpi/density-based-clustering"
   ]
  },
  {
   "cell_type": "code",
   "execution_count": null,
   "metadata": {},
   "outputs": [],
   "source": []
  },
  {
   "cell_type": "code",
   "execution_count": null,
   "metadata": {},
   "outputs": [],
   "source": []
  },
  {
   "cell_type": "markdown",
   "metadata": {},
   "source": [
    "# In Class Lab\n",
    "\n",
    "For the rest of class, I want you to work on clustering a dataset.\n",
    "\n",
    "- I recommend picking any of the following datasets:\n",
    "    - amazon_cities_data.csv, fifa_data.csv, mushrooms.csv, spotify_data.csv, Pokemon.csv, world-happiness-report folder, acs2015_county_data.csv, nba_player_stats.csv, diamonds.csv.\n",
    "    - You can also use any of other supervised learning datasets we've used, just make sure to remove the target variable.\n",
    "    \n",
    "- Determine the right number of clusters using both silhouette score and elbow methods. Cluster using both scaled and unscaled versions of the data.\n",
    "\n",
    "- Use EDA to learn about your clusters. Visualize the differences between thems. Don't just use the avearage attributes of each cluster's attributes.\n",
    "\n",
    "- At the end of the class, each one of use will take 2-3 minutes to explain their clustering. Tell us what dataset you chose, how many clusters there are, and briefly describe the characteristics of each cluster."
   ]
  },
  {
   "cell_type": "code",
   "execution_count": null,
   "metadata": {},
   "outputs": [],
   "source": []
  }
 ],
 "metadata": {
  "kernelspec": {
   "display_name": "Python 2",
   "language": "python",
   "name": "python2"
  },
  "language_info": {
   "codemirror_mode": {
    "name": "ipython",
    "version": 2
   },
   "file_extension": ".py",
   "mimetype": "text/x-python",
   "name": "python",
   "nbconvert_exporter": "python",
   "pygments_lexer": "ipython2",
   "version": "2.7.13"
  }
 },
 "nbformat": 4,
 "nbformat_minor": 2
}
